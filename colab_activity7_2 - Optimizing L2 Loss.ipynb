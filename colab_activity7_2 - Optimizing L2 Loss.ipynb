{
  "cells": [
    {
      "cell_type": "markdown",
      "metadata": {
        "id": "view-in-github",
        "colab_type": "text"
      },
      "source": [
        "<a href=\"https://colab.research.google.com/github/jaidatta71/ML---Berkeley/blob/main/colab_activity7_2%20-%20Optimizing%20L2%20Loss.ipynb\" target=\"_parent\"><img src=\"https://colab.research.google.com/assets/colab-badge.svg\" alt=\"Open In Colab\"/></a>"
      ]
    },
    {
      "cell_type": "markdown",
      "metadata": {
        "nbgrader": {
          "grade": false,
          "grade_id": "cell-207bb2902b4449dc",
          "locked": true,
          "schema_version": 1,
          "solution": false
        },
        "id": "vxYBtpBk9HSe"
      },
      "source": [
        "## Self-Study Colab Activity 7.2: Defining, Computing, and Optimizing Loss\n",
        "\n",
        "**Expected Time = 60 Minutes**\n",
        "\n",
        "\n",
        "This activity focuses on computing and minimizing the L2 loss for different values of theta and identifying the theta that minimizes the L2 loss.  \n",
        "\n",
        "## Index:\n",
        "\n",
        "- [Problem 1](#Problem-1)\n",
        "- [Problem 2](#Problem-2)\n",
        "- [Problem 3](#Problem-3)\n",
        "- [Problem 4](#Problem-4)\n",
        "- [Problem 5](#Problem-5)"
      ]
    },
    {
      "cell_type": "code",
      "execution_count": null,
      "metadata": {
        "id": "4C9Dko4l9HSg"
      },
      "outputs": [],
      "source": [
        "import pandas as pd\n",
        "import plotly.express as px\n",
        "import numpy as np\n",
        "import seaborn as sns\n",
        "import matplotlib.pyplot as plt\n",
        "from sklearn.linear_model import LinearRegression\n",
        "from sklearn.metrics import mean_squared_error\n",
        "from scipy.optimize import minimize"
      ]
    },
    {
      "cell_type": "markdown",
      "metadata": {
        "nbgrader": {
          "grade": false,
          "grade_id": "cell-6851cdfbd4071223",
          "locked": true,
          "schema_version": 1,
          "solution": false
        },
        "id": "mtH0tquC9HSj"
      },
      "source": [
        "### The Dataset\n",
        "\n",
        "The geyser data from seaborn is loaded below.  You are to  build a model using the waiting time to predict the geyser explosion duration.\n",
        "\n",
        "Note that this model will not have an intercept term.  "
      ]
    },
    {
      "cell_type": "code",
      "execution_count": null,
      "metadata": {
        "id": "m3UgcJiG9HSk"
      },
      "outputs": [],
      "source": [
        "geyser = sns.load_dataset('geyser')"
      ]
    },
    {
      "cell_type": "code",
      "execution_count": null,
      "metadata": {
        "colab": {
          "base_uri": "https://localhost:8080/",
          "height": 206
        },
        "id": "fYEYi6tD9HSl",
        "outputId": "d35631f5-4d80-4eff-f755-43eaf6715df2"
      },
      "outputs": [
        {
          "output_type": "execute_result",
          "data": {
            "text/plain": [
              "   duration  waiting   kind\n",
              "0     3.600       79   long\n",
              "1     1.800       54  short\n",
              "2     3.333       74   long\n",
              "3     2.283       62  short\n",
              "4     4.533       85   long"
            ],
            "text/html": [
              "\n",
              "  <div id=\"df-6793693a-4de9-4ee2-b50d-093f1d156211\" class=\"colab-df-container\">\n",
              "    <div>\n",
              "<style scoped>\n",
              "    .dataframe tbody tr th:only-of-type {\n",
              "        vertical-align: middle;\n",
              "    }\n",
              "\n",
              "    .dataframe tbody tr th {\n",
              "        vertical-align: top;\n",
              "    }\n",
              "\n",
              "    .dataframe thead th {\n",
              "        text-align: right;\n",
              "    }\n",
              "</style>\n",
              "<table border=\"1\" class=\"dataframe\">\n",
              "  <thead>\n",
              "    <tr style=\"text-align: right;\">\n",
              "      <th></th>\n",
              "      <th>duration</th>\n",
              "      <th>waiting</th>\n",
              "      <th>kind</th>\n",
              "    </tr>\n",
              "  </thead>\n",
              "  <tbody>\n",
              "    <tr>\n",
              "      <th>0</th>\n",
              "      <td>3.600</td>\n",
              "      <td>79</td>\n",
              "      <td>long</td>\n",
              "    </tr>\n",
              "    <tr>\n",
              "      <th>1</th>\n",
              "      <td>1.800</td>\n",
              "      <td>54</td>\n",
              "      <td>short</td>\n",
              "    </tr>\n",
              "    <tr>\n",
              "      <th>2</th>\n",
              "      <td>3.333</td>\n",
              "      <td>74</td>\n",
              "      <td>long</td>\n",
              "    </tr>\n",
              "    <tr>\n",
              "      <th>3</th>\n",
              "      <td>2.283</td>\n",
              "      <td>62</td>\n",
              "      <td>short</td>\n",
              "    </tr>\n",
              "    <tr>\n",
              "      <th>4</th>\n",
              "      <td>4.533</td>\n",
              "      <td>85</td>\n",
              "      <td>long</td>\n",
              "    </tr>\n",
              "  </tbody>\n",
              "</table>\n",
              "</div>\n",
              "    <div class=\"colab-df-buttons\">\n",
              "\n",
              "  <div class=\"colab-df-container\">\n",
              "    <button class=\"colab-df-convert\" onclick=\"convertToInteractive('df-6793693a-4de9-4ee2-b50d-093f1d156211')\"\n",
              "            title=\"Convert this dataframe to an interactive table.\"\n",
              "            style=\"display:none;\">\n",
              "\n",
              "  <svg xmlns=\"http://www.w3.org/2000/svg\" height=\"24px\" viewBox=\"0 -960 960 960\">\n",
              "    <path d=\"M120-120v-720h720v720H120Zm60-500h600v-160H180v160Zm220 220h160v-160H400v160Zm0 220h160v-160H400v160ZM180-400h160v-160H180v160Zm440 0h160v-160H620v160ZM180-180h160v-160H180v160Zm440 0h160v-160H620v160Z\"/>\n",
              "  </svg>\n",
              "    </button>\n",
              "\n",
              "  <style>\n",
              "    .colab-df-container {\n",
              "      display:flex;\n",
              "      gap: 12px;\n",
              "    }\n",
              "\n",
              "    .colab-df-convert {\n",
              "      background-color: #E8F0FE;\n",
              "      border: none;\n",
              "      border-radius: 50%;\n",
              "      cursor: pointer;\n",
              "      display: none;\n",
              "      fill: #1967D2;\n",
              "      height: 32px;\n",
              "      padding: 0 0 0 0;\n",
              "      width: 32px;\n",
              "    }\n",
              "\n",
              "    .colab-df-convert:hover {\n",
              "      background-color: #E2EBFA;\n",
              "      box-shadow: 0px 1px 2px rgba(60, 64, 67, 0.3), 0px 1px 3px 1px rgba(60, 64, 67, 0.15);\n",
              "      fill: #174EA6;\n",
              "    }\n",
              "\n",
              "    .colab-df-buttons div {\n",
              "      margin-bottom: 4px;\n",
              "    }\n",
              "\n",
              "    [theme=dark] .colab-df-convert {\n",
              "      background-color: #3B4455;\n",
              "      fill: #D2E3FC;\n",
              "    }\n",
              "\n",
              "    [theme=dark] .colab-df-convert:hover {\n",
              "      background-color: #434B5C;\n",
              "      box-shadow: 0px 1px 3px 1px rgba(0, 0, 0, 0.15);\n",
              "      filter: drop-shadow(0px 1px 2px rgba(0, 0, 0, 0.3));\n",
              "      fill: #FFFFFF;\n",
              "    }\n",
              "  </style>\n",
              "\n",
              "    <script>\n",
              "      const buttonEl =\n",
              "        document.querySelector('#df-6793693a-4de9-4ee2-b50d-093f1d156211 button.colab-df-convert');\n",
              "      buttonEl.style.display =\n",
              "        google.colab.kernel.accessAllowed ? 'block' : 'none';\n",
              "\n",
              "      async function convertToInteractive(key) {\n",
              "        const element = document.querySelector('#df-6793693a-4de9-4ee2-b50d-093f1d156211');\n",
              "        const dataTable =\n",
              "          await google.colab.kernel.invokeFunction('convertToInteractive',\n",
              "                                                    [key], {});\n",
              "        if (!dataTable) return;\n",
              "\n",
              "        const docLinkHtml = 'Like what you see? Visit the ' +\n",
              "          '<a target=\"_blank\" href=https://colab.research.google.com/notebooks/data_table.ipynb>data table notebook</a>'\n",
              "          + ' to learn more about interactive tables.';\n",
              "        element.innerHTML = '';\n",
              "        dataTable['output_type'] = 'display_data';\n",
              "        await google.colab.output.renderOutput(dataTable, element);\n",
              "        const docLink = document.createElement('div');\n",
              "        docLink.innerHTML = docLinkHtml;\n",
              "        element.appendChild(docLink);\n",
              "      }\n",
              "    </script>\n",
              "  </div>\n",
              "\n",
              "\n",
              "<div id=\"df-b89c95f5-3d49-46c4-9ece-340d2c96b9d0\">\n",
              "  <button class=\"colab-df-quickchart\" onclick=\"quickchart('df-b89c95f5-3d49-46c4-9ece-340d2c96b9d0')\"\n",
              "            title=\"Suggest charts\"\n",
              "            style=\"display:none;\">\n",
              "\n",
              "<svg xmlns=\"http://www.w3.org/2000/svg\" height=\"24px\"viewBox=\"0 0 24 24\"\n",
              "     width=\"24px\">\n",
              "    <g>\n",
              "        <path d=\"M19 3H5c-1.1 0-2 .9-2 2v14c0 1.1.9 2 2 2h14c1.1 0 2-.9 2-2V5c0-1.1-.9-2-2-2zM9 17H7v-7h2v7zm4 0h-2V7h2v10zm4 0h-2v-4h2v4z\"/>\n",
              "    </g>\n",
              "</svg>\n",
              "  </button>\n",
              "\n",
              "<style>\n",
              "  .colab-df-quickchart {\n",
              "      --bg-color: #E8F0FE;\n",
              "      --fill-color: #1967D2;\n",
              "      --hover-bg-color: #E2EBFA;\n",
              "      --hover-fill-color: #174EA6;\n",
              "      --disabled-fill-color: #AAA;\n",
              "      --disabled-bg-color: #DDD;\n",
              "  }\n",
              "\n",
              "  [theme=dark] .colab-df-quickchart {\n",
              "      --bg-color: #3B4455;\n",
              "      --fill-color: #D2E3FC;\n",
              "      --hover-bg-color: #434B5C;\n",
              "      --hover-fill-color: #FFFFFF;\n",
              "      --disabled-bg-color: #3B4455;\n",
              "      --disabled-fill-color: #666;\n",
              "  }\n",
              "\n",
              "  .colab-df-quickchart {\n",
              "    background-color: var(--bg-color);\n",
              "    border: none;\n",
              "    border-radius: 50%;\n",
              "    cursor: pointer;\n",
              "    display: none;\n",
              "    fill: var(--fill-color);\n",
              "    height: 32px;\n",
              "    padding: 0;\n",
              "    width: 32px;\n",
              "  }\n",
              "\n",
              "  .colab-df-quickchart:hover {\n",
              "    background-color: var(--hover-bg-color);\n",
              "    box-shadow: 0 1px 2px rgba(60, 64, 67, 0.3), 0 1px 3px 1px rgba(60, 64, 67, 0.15);\n",
              "    fill: var(--button-hover-fill-color);\n",
              "  }\n",
              "\n",
              "  .colab-df-quickchart-complete:disabled,\n",
              "  .colab-df-quickchart-complete:disabled:hover {\n",
              "    background-color: var(--disabled-bg-color);\n",
              "    fill: var(--disabled-fill-color);\n",
              "    box-shadow: none;\n",
              "  }\n",
              "\n",
              "  .colab-df-spinner {\n",
              "    border: 2px solid var(--fill-color);\n",
              "    border-color: transparent;\n",
              "    border-bottom-color: var(--fill-color);\n",
              "    animation:\n",
              "      spin 1s steps(1) infinite;\n",
              "  }\n",
              "\n",
              "  @keyframes spin {\n",
              "    0% {\n",
              "      border-color: transparent;\n",
              "      border-bottom-color: var(--fill-color);\n",
              "      border-left-color: var(--fill-color);\n",
              "    }\n",
              "    20% {\n",
              "      border-color: transparent;\n",
              "      border-left-color: var(--fill-color);\n",
              "      border-top-color: var(--fill-color);\n",
              "    }\n",
              "    30% {\n",
              "      border-color: transparent;\n",
              "      border-left-color: var(--fill-color);\n",
              "      border-top-color: var(--fill-color);\n",
              "      border-right-color: var(--fill-color);\n",
              "    }\n",
              "    40% {\n",
              "      border-color: transparent;\n",
              "      border-right-color: var(--fill-color);\n",
              "      border-top-color: var(--fill-color);\n",
              "    }\n",
              "    60% {\n",
              "      border-color: transparent;\n",
              "      border-right-color: var(--fill-color);\n",
              "    }\n",
              "    80% {\n",
              "      border-color: transparent;\n",
              "      border-right-color: var(--fill-color);\n",
              "      border-bottom-color: var(--fill-color);\n",
              "    }\n",
              "    90% {\n",
              "      border-color: transparent;\n",
              "      border-bottom-color: var(--fill-color);\n",
              "    }\n",
              "  }\n",
              "</style>\n",
              "\n",
              "  <script>\n",
              "    async function quickchart(key) {\n",
              "      const quickchartButtonEl =\n",
              "        document.querySelector('#' + key + ' button');\n",
              "      quickchartButtonEl.disabled = true;  // To prevent multiple clicks.\n",
              "      quickchartButtonEl.classList.add('colab-df-spinner');\n",
              "      try {\n",
              "        const charts = await google.colab.kernel.invokeFunction(\n",
              "            'suggestCharts', [key], {});\n",
              "      } catch (error) {\n",
              "        console.error('Error during call to suggestCharts:', error);\n",
              "      }\n",
              "      quickchartButtonEl.classList.remove('colab-df-spinner');\n",
              "      quickchartButtonEl.classList.add('colab-df-quickchart-complete');\n",
              "    }\n",
              "    (() => {\n",
              "      let quickchartButtonEl =\n",
              "        document.querySelector('#df-b89c95f5-3d49-46c4-9ece-340d2c96b9d0 button');\n",
              "      quickchartButtonEl.style.display =\n",
              "        google.colab.kernel.accessAllowed ? 'block' : 'none';\n",
              "    })();\n",
              "  </script>\n",
              "</div>\n",
              "\n",
              "    </div>\n",
              "  </div>\n"
            ],
            "application/vnd.google.colaboratory.intrinsic+json": {
              "type": "dataframe",
              "variable_name": "geyser",
              "summary": "{\n  \"name\": \"geyser\",\n  \"rows\": 272,\n  \"fields\": [\n    {\n      \"column\": \"duration\",\n      \"properties\": {\n        \"dtype\": \"number\",\n        \"std\": 1.1413712511052077,\n        \"min\": 1.6,\n        \"max\": 5.1,\n        \"num_unique_values\": 126,\n        \"samples\": [\n          4.7330000000000005,\n          1.967,\n          1.85\n        ],\n        \"semantic_type\": \"\",\n        \"description\": \"\"\n      }\n    },\n    {\n      \"column\": \"waiting\",\n      \"properties\": {\n        \"dtype\": \"number\",\n        \"std\": 13,\n        \"min\": 43,\n        \"max\": 96,\n        \"num_unique_values\": 51,\n        \"samples\": [\n          96,\n          87,\n          68\n        ],\n        \"semantic_type\": \"\",\n        \"description\": \"\"\n      }\n    },\n    {\n      \"column\": \"kind\",\n      \"properties\": {\n        \"dtype\": \"category\",\n        \"num_unique_values\": 2,\n        \"samples\": [\n          \"short\",\n          \"long\"\n        ],\n        \"semantic_type\": \"\",\n        \"description\": \"\"\n      }\n    }\n  ]\n}"
            }
          },
          "metadata": {},
          "execution_count": 6
        }
      ],
      "source": [
        "geyser.head()"
      ]
    },
    {
      "cell_type": "markdown",
      "metadata": {
        "nbgrader": {
          "grade": false,
          "grade_id": "cell-f8e0d04289d1c456",
          "locked": true,
          "schema_version": 1,
          "solution": false
        },
        "id": "J7VN202c9HSm"
      },
      "source": [
        "[Back to top](#Index:)\n",
        "\n",
        "## Problem 1\n",
        "\n",
        "### Creating an array of $\\theta$'s\n",
        "\n",
        "\n",
        "Below, create an array of 100 equally spaced values between -1 and 1.  Use the `np.linspace` method demonstrated in the lectures and assigned your answer as a numpy array to `thetas` below."
      ]
    },
    {
      "cell_type": "code",
      "execution_count": null,
      "metadata": {
        "nbgrader": {
          "grade": false,
          "grade_id": "cell-aec7c884b51f8b43",
          "locked": false,
          "schema_version": 1,
          "solution": true
        },
        "colab": {
          "base_uri": "https://localhost:8080/"
        },
        "collapsed": true,
        "id": "MwNhNt6b9HSm",
        "outputId": "10d80185-1353-412b-d61b-3b6d30adb8f9"
      },
      "outputs": [
        {
          "output_type": "stream",
          "name": "stdout",
          "text": [
            "<class 'numpy.ndarray'>\n",
            "(100,)\n"
          ]
        },
        {
          "output_type": "execute_result",
          "data": {
            "text/plain": [
              "array([-1.        , -0.97979798, -0.95959596, -0.93939394, -0.91919192,\n",
              "       -0.8989899 , -0.87878788, -0.85858586, -0.83838384, -0.81818182,\n",
              "       -0.7979798 , -0.77777778, -0.75757576, -0.73737374, -0.71717172,\n",
              "       -0.6969697 , -0.67676768, -0.65656566, -0.63636364, -0.61616162,\n",
              "       -0.5959596 , -0.57575758, -0.55555556, -0.53535354, -0.51515152,\n",
              "       -0.49494949, -0.47474747, -0.45454545, -0.43434343, -0.41414141,\n",
              "       -0.39393939, -0.37373737, -0.35353535, -0.33333333, -0.31313131,\n",
              "       -0.29292929, -0.27272727, -0.25252525, -0.23232323, -0.21212121,\n",
              "       -0.19191919, -0.17171717, -0.15151515, -0.13131313, -0.11111111,\n",
              "       -0.09090909, -0.07070707, -0.05050505, -0.03030303, -0.01010101,\n",
              "        0.01010101,  0.03030303,  0.05050505,  0.07070707,  0.09090909,\n",
              "        0.11111111,  0.13131313,  0.15151515,  0.17171717,  0.19191919,\n",
              "        0.21212121,  0.23232323,  0.25252525,  0.27272727,  0.29292929,\n",
              "        0.31313131,  0.33333333,  0.35353535,  0.37373737,  0.39393939,\n",
              "        0.41414141,  0.43434343,  0.45454545,  0.47474747,  0.49494949,\n",
              "        0.51515152,  0.53535354,  0.55555556,  0.57575758,  0.5959596 ,\n",
              "        0.61616162,  0.63636364,  0.65656566,  0.67676768,  0.6969697 ,\n",
              "        0.71717172,  0.73737374,  0.75757576,  0.77777778,  0.7979798 ,\n",
              "        0.81818182,  0.83838384,  0.85858586,  0.87878788,  0.8989899 ,\n",
              "        0.91919192,  0.93939394,  0.95959596,  0.97979798,  1.        ])"
            ]
          },
          "metadata": {},
          "execution_count": 7
        }
      ],
      "source": [
        "thetas = np.linspace(-1, 1, 100)\n",
        "\n",
        "# Answer check\n",
        "print(type(thetas))\n",
        "print(thetas.shape)\n",
        "thetas"
      ]
    },
    {
      "cell_type": "markdown",
      "metadata": {
        "nbgrader": {
          "grade": false,
          "grade_id": "cell-c653fe4544754dc7",
          "locked": true,
          "schema_version": 1,
          "solution": false
        },
        "id": "D3MLHFcx9HSn"
      },
      "source": [
        "[Back to top](#Index:)\n",
        "\n",
        "## Problem 2\n",
        "\n",
        "### The Model\n",
        "\n",
        "\n",
        "\n",
        "In this assignment, our model takes the form:\n",
        "\n",
        "$$\\text{duration} = \\text{waiting} \\times \\theta$$\n",
        "\n",
        "Multiply the values in the `waiting` column of the `geyser` dataset by `0.8` to create a prediction for the case of $\\theta = 0.8$. Assign them as a Series to the variable `prediction` below."
      ]
    },
    {
      "cell_type": "code",
      "execution_count": null,
      "metadata": {
        "nbgrader": {
          "grade": false,
          "grade_id": "cell-40948b174cdc8501",
          "locked": false,
          "schema_version": 1,
          "solution": true
        },
        "colab": {
          "base_uri": "https://localhost:8080/",
          "height": 493
        },
        "id": "_HWw3DCp9HSn",
        "outputId": "9cec7184-9b88-456e-e266-6729097d4404"
      },
      "outputs": [
        {
          "output_type": "stream",
          "name": "stdout",
          "text": [
            "<class 'pandas.core.series.Series'>\n",
            "(272,)\n"
          ]
        },
        {
          "output_type": "execute_result",
          "data": {
            "text/plain": [
              "0      63.2\n",
              "1      43.2\n",
              "2      59.2\n",
              "3      49.6\n",
              "4      68.0\n",
              "       ... \n",
              "267    64.8\n",
              "268    36.8\n",
              "269    72.0\n",
              "270    36.8\n",
              "271    59.2\n",
              "Name: waiting, Length: 272, dtype: float64"
            ],
            "text/html": [
              "<div>\n",
              "<style scoped>\n",
              "    .dataframe tbody tr th:only-of-type {\n",
              "        vertical-align: middle;\n",
              "    }\n",
              "\n",
              "    .dataframe tbody tr th {\n",
              "        vertical-align: top;\n",
              "    }\n",
              "\n",
              "    .dataframe thead th {\n",
              "        text-align: right;\n",
              "    }\n",
              "</style>\n",
              "<table border=\"1\" class=\"dataframe\">\n",
              "  <thead>\n",
              "    <tr style=\"text-align: right;\">\n",
              "      <th></th>\n",
              "      <th>waiting</th>\n",
              "    </tr>\n",
              "  </thead>\n",
              "  <tbody>\n",
              "    <tr>\n",
              "      <th>0</th>\n",
              "      <td>63.2</td>\n",
              "    </tr>\n",
              "    <tr>\n",
              "      <th>1</th>\n",
              "      <td>43.2</td>\n",
              "    </tr>\n",
              "    <tr>\n",
              "      <th>2</th>\n",
              "      <td>59.2</td>\n",
              "    </tr>\n",
              "    <tr>\n",
              "      <th>3</th>\n",
              "      <td>49.6</td>\n",
              "    </tr>\n",
              "    <tr>\n",
              "      <th>4</th>\n",
              "      <td>68.0</td>\n",
              "    </tr>\n",
              "    <tr>\n",
              "      <th>...</th>\n",
              "      <td>...</td>\n",
              "    </tr>\n",
              "    <tr>\n",
              "      <th>267</th>\n",
              "      <td>64.8</td>\n",
              "    </tr>\n",
              "    <tr>\n",
              "      <th>268</th>\n",
              "      <td>36.8</td>\n",
              "    </tr>\n",
              "    <tr>\n",
              "      <th>269</th>\n",
              "      <td>72.0</td>\n",
              "    </tr>\n",
              "    <tr>\n",
              "      <th>270</th>\n",
              "      <td>36.8</td>\n",
              "    </tr>\n",
              "    <tr>\n",
              "      <th>271</th>\n",
              "      <td>59.2</td>\n",
              "    </tr>\n",
              "  </tbody>\n",
              "</table>\n",
              "<p>272 rows × 1 columns</p>\n",
              "</div><br><label><b>dtype:</b> float64</label>"
            ]
          },
          "metadata": {},
          "execution_count": 8
        }
      ],
      "source": [
        "\n",
        "\n",
        "prediction = geyser['waiting']*0.8\n",
        "\n",
        "# Answer check\n",
        "print(type(prediction))\n",
        "print(prediction.shape)\n",
        "prediction"
      ]
    },
    {
      "cell_type": "markdown",
      "metadata": {
        "id": "aIWw4ueR9HSo"
      },
      "source": [
        "from sklearn.metrics import mean_squared_error\n",
        "mean_squared_error(geyser['duration'], linreg.predict(geyser[['waiting']]))[Back to top](#Index:)\n",
        "\n",
        "## Problem 3\n",
        "\n",
        "### Determining Mean Squared Error\n",
        "\n",
        "\n",
        "\n",
        "\n",
        "Use the `mean_squared_error` function to calculate the MSE between the `duration` column of the `geyser` DataFrame and the `0.8*geyser['waiting']` data.\n",
        "\n",
        "Use the function `float` to convert your result to floats.\n",
        "\n",
        "Assign your result as a float to `mse` below."
      ]
    },
    {
      "cell_type": "code",
      "execution_count": null,
      "metadata": {
        "nbgrader": {
          "grade": false,
          "grade_id": "cell-888d17b4527cbe61",
          "locked": false,
          "schema_version": 1,
          "solution": true
        },
        "colab": {
          "base_uri": "https://localhost:8080/"
        },
        "id": "5cIIo30f9HSo",
        "outputId": "9e9c1a8c-46a6-4b21-c45b-14faf7a61e9b"
      },
      "outputs": [
        {
          "output_type": "stream",
          "name": "stdout",
          "text": [
            "<class 'float'>\n",
            "2930.2861285845593\n"
          ]
        }
      ],
      "source": [
        "#from sklearn.metrics import mean_squared_error\n",
        "#mean_squared_error(geyser['duration'], linreg.predict(geyser[['waiting']]))\n",
        "\n",
        "mse = mean_squared_error(geyser['duration'], prediction)\n",
        "\n",
        "# Answer check\n",
        "print(type(mse))\n",
        "print(mse)"
      ]
    },
    {
      "cell_type": "markdown",
      "metadata": {
        "nbgrader": {
          "grade": false,
          "grade_id": "cell-7b12595a47f08985",
          "locked": true,
          "schema_version": 1,
          "solution": false
        },
        "id": "72kTVwcI9HSo"
      },
      "source": [
        "[Back to top](#Index:)\n",
        "\n",
        "## Problem 4\n",
        "\n",
        "### Computing the Mean Squared Error for `thetas`\n",
        "\n",
        "\n",
        "\n",
        "Use a `for` loop over `thetas` to compute the MSE between the column `geyser['duration']` and the column `geyser['waiting']`multiplied by each value of `theta`.  Assign these values in order to the list `mses` below."
      ]
    },
    {
      "cell_type": "code",
      "execution_count": null,
      "metadata": {
        "nbgrader": {
          "grade": false,
          "grade_id": "cell-7f0acca5c4ae5d6c",
          "locked": false,
          "schema_version": 1,
          "solution": true
        },
        "colab": {
          "base_uri": "https://localhost:8080/"
        },
        "id": "5zS2Ut9L9HSp",
        "outputId": "8b630a78-27a3-4620-bfc5-9a18b5f9fe2a"
      },
      "outputs": [
        {
          "output_type": "stream",
          "name": "stdout",
          "text": [
            "<class 'list'>\n",
            "100\n",
            "[[5746.399297702205, -1.0], [5527.445557830223, -0.9797979797979798], [5312.744883371734, -0.9595959595959596], [5102.29727432674, -0.9393939393939394]]\n",
            "[[5746.399297702205, -1.0], [5527.445557830223, -0.9797979797979798], [5312.744883371734, -0.9595959595959596], [5102.29727432674, -0.9393939393939394], [4896.102730695238, -0.9191919191919192], [4694.161252477228, -0.898989898989899], [4496.472839672713, -0.8787878787878788], [4303.037492281691, -0.8585858585858586], [4113.855210304161, -0.8383838383838383], [3928.925993740124, -0.8181818181818181], [3748.2498425895824, -0.797979797979798], [3571.8267568525325, -0.7777777777777778], [3399.6567365289766, -0.7575757575757576], [3231.7397816189127, -0.7373737373737373], [3068.0758921223423, -0.7171717171717171], [2908.6650680392668, -0.696969696969697], [2753.507309369682, -0.6767676767676767], [2602.6026161135924, -0.6565656565656566], [2455.9509882709954, -0.6363636363636364], [2313.552425841892, -0.6161616161616161], [2175.40692882628, -0.5959595959595959], [2041.5144972241628, -0.5757575757575757], [1911.8751310355394, -0.5555555555555556], [1786.4888302604077, -0.5353535353535352], [1665.3555948987703, -0.5151515151515151], [1548.4754249506257, -0.4949494949494949], [1435.8483204159743, -0.4747474747474747], [1327.474281294816, -0.4545454545454545], [1223.353307587151, -0.43434343434343425], [1123.48539929298, -0.41414141414141414], [1027.8705564123015, -0.3939393939393939], [936.5087789451162, -0.3737373737373737], [849.4000668914241, -0.3535353535353535], [766.5444202512253, -0.33333333333333326], [687.9418390245196, -0.31313131313131304], [613.5923232113072, -0.2929292929292928], [543.4958728115885, -0.2727272727272727], [477.65248782536247, -0.2525252525252525], [416.0621682526297, -0.23232323232323226], [358.7249140933903, -0.21212121212121204], [305.64072534764404, -0.19191919191919182], [256.80960201539096, -0.1717171717171716], [212.23154409663135, -0.1515151515151515], [171.90655159136477, -0.13131313131313127], [135.8346244995914, -0.11111111111111105], [104.01576282131127, -0.09090909090909083], [76.44996655652436, -0.07070707070707061], [53.13723570523066, -0.050505050505050386], [34.0775702674303, -0.030303030303030276], [19.27097024312305, -0.010101010101010055], [8.717435632309025, 0.010101010101010166], [2.416966434988211, 0.030303030303030498], [0.3695626511606713, 0.05050505050505061], [2.5752242808263133, 0.07070707070707072], [9.033951323985233, 0.09090909090909105], [19.745743780637287, 0.11111111111111116], [34.71060165078271, 0.1313131313131315], [53.928524934421176, 0.1515151515151516], [77.39951363155284, 0.1717171717171717], [105.12356774217797, 0.19191919191919204], [137.10068726629603, 0.21212121212121215], [173.3308722039077, 0.2323232323232325], [213.81412255501218, 0.2525252525252526], [258.55043831961035, 0.27272727272727293], [307.5398194977012, 0.29292929292929304], [360.78226608928526, 0.31313131313131315], [418.27777809436316, 0.3333333333333335], [480.02635551293366, 0.3535353535353536], [546.027998344998, 0.3737373737373739], [616.2827065905549, 0.39393939393939403], [690.7904802496059, 0.41414141414141437], [769.5513193221491, 0.4343434343434345], [852.5652238081856, 0.4545454545454546], [939.8321937077162, 0.4747474747474749], [1031.352229020739, 0.49494949494949503], [1127.1253297472563, 0.5151515151515154], [1227.1514958872656, 0.5353535353535355], [1331.4307274407681, 0.5555555555555556], [1439.9630244077653, 0.5757575757575759], [1552.7483867882538, 0.595959595959596], [1669.7868145822372, 0.6161616161616164], [1791.0783077897124, 0.6363636363636365], [1916.6228664106825, 0.6565656565656568], [2046.4204904451447, 0.6767676767676769], [2180.471179893099, 0.696969696969697], [2318.7749347545487, 0.7171717171717173], [2461.3317550294896, 0.7373737373737375], [2608.1416407179263, 0.7575757575757578], [2759.2045918198537, 0.7777777777777779], [2914.5206083352764, 0.7979797979797982], [3074.0896902641907, 0.8181818181818183], [3237.9118376065985, 0.8383838383838385], [3405.9870503625007, 0.8585858585858588], [3578.3153285318945, 0.8787878787878789], [3754.896672114783, 0.8989898989898992], [3935.7310811111633, 0.9191919191919193], [4120.818555521036, 0.9393939393939394], [4310.159095344405, 0.9595959595959598], [4503.752700581265, 0.9797979797979799], [4701.5993712316185, 1.0]]\n"
          ]
        }
      ],
      "source": [
        "mses = []\n",
        "for i in thetas:\n",
        "    k=mean_squared_error(geyser['duration'], geyser['waiting']*i)\n",
        "    mses.append([k, i])\n",
        "\n",
        "# Answer check\n",
        "print(type(mses))\n",
        "print(len(mses))\n",
        "print(mses[:4])\n",
        "print(mses)"
      ]
    },
    {
      "cell_type": "markdown",
      "metadata": {
        "nbgrader": {
          "grade": false,
          "grade_id": "cell-42b6fecad516574e",
          "locked": true,
          "schema_version": 1,
          "solution": false
        },
        "id": "uHiBKbfa9HSp"
      },
      "source": [
        "[Back to top](#Index:)\n",
        "\n",
        "## Problem 5\n",
        "\n",
        "### Which $\\theta$ minimizes Mean Squared Error\n",
        "\n",
        "\n",
        "\n",
        "Using the list of `mses`, determine the value for $\\theta$ that minimized the mean squared error.  You may want to amend your loop above to check for the smallest value as the loop proceeds.  Assign your answer as a float to `theta_min` below."
      ]
    },
    {
      "cell_type": "code",
      "execution_count": null,
      "metadata": {
        "nbgrader": {
          "grade": false,
          "grade_id": "cell-a03ccd41fe22aac6",
          "locked": false,
          "schema_version": 1,
          "solution": true
        },
        "colab": {
          "base_uri": "https://localhost:8080/"
        },
        "id": "m33xEzea9HSp",
        "outputId": "f3a6fabc-f845-4ee8-f6e3-faab75cee71e"
      },
      "outputs": [
        {
          "output_type": "stream",
          "name": "stdout",
          "text": [
            "Minimum pair based on first element: [0.3695626511606713, 0.05050505050505061]\n",
            "<class 'numpy.float64'>\n",
            "0.3695626511606713\n",
            "0.05050505050505061\n"
          ]
        }
      ],
      "source": [
        "min_pair_first_element = min(mses, key=lambda pair: pair[0])\n",
        "print(f\"Minimum pair based on first element: {min_pair_first_element}\")\n",
        "\n",
        "min_mse = min_pair_first_element[0]\n",
        "theta_min = min_pair_first_element[1]\n",
        "\n",
        "# Answer check\n",
        "print(type(theta_min))\n",
        "print(min_mse)\n",
        "print(theta_min)"
      ]
    },
    {
      "cell_type": "markdown",
      "metadata": {
        "nbgrader": {
          "grade": false,
          "grade_id": "cell-84ec1ca3faa45312",
          "locked": true,
          "schema_version": 1,
          "solution": false
        },
        "id": "eknUSYgh9HSp"
      },
      "source": [
        "Note that, again, the shape of the Mean Squared Error is a parabola.  The plot below shows the values of thetas againt their mean squared error.  \n",
        "\n",
        "<center>\n",
        "    <img src = 'images/mse_min.png' >\n",
        "</center>"
      ]
    },
    {
      "cell_type": "code",
      "execution_count": null,
      "metadata": {
        "colab": {
          "base_uri": "https://localhost:8080/",
          "height": 473
        },
        "id": "WFuiio699HSq",
        "outputId": "4ccc14a8-93c4-4b35-923e-940ab6289aef"
      },
      "outputs": [
        {
          "output_type": "display_data",
          "data": {
            "text/plain": [
              "<Figure size 640x480 with 1 Axes>"
            ],
            "image/png": "[encoded data removed]"
          },
          "metadata": {}
        }
      ],
      "source": [
        "#Code for Plot\n",
        "#fig = px.line(x = thetas, y = mses, title = 'Mean Squared Error')\n",
        "#fig.update_layout(xaxis_title = r'$\\theta$', yaxis_title = 'MSE', font_size=20)\n",
        "#fig.show()\n",
        "\n",
        "plt.plot(thetas, mses)\n",
        "plt.plot(thetas[np.argmin(mses[0])], min(mses[0]), 'ro', label = 'Minimum')\n",
        "plt.legend()\n",
        "plt.title('Minimum MSE')\n",
        "plt.xlabel(r'$\\theta$')\n",
        "plt.ylabel('MSE')\n",
        "plt.grid();\n",
        "#plt.savefig('images/mse_min.png')"
      ]
    },
    {
      "cell_type": "code",
      "source": [
        "# finds minimum MSE\n",
        "# Use the minimize function that has been imported from scipy.optimize to find the minimum value of \"l2_loss\" FUNCTION using x0 = 4\n",
        "# Next, use the minimum_theta.x attribute to examine the lowest value\n",
        "# One way to identify is by using scipy.optimize import minimize\n",
        "# 2nd way by plotting\n",
        "\n",
        "def l2_loss(theta):\n",
        "    return np.mean((y-theta*x)**2)\n",
        "\n",
        "minimum_theta = minimize(l2_loss, x0=4)\n",
        "theta_solution = minimum_theta.x  # or   theta_solution = minimum_theta.x[0]........here the type in the former case is array in later it is float64\n",
        "\n",
        "#px.lin(x=np.linespace(-4,2,1000), y=function(np.linspace(-4,2,1000)))\n",
        "\n",
        "plt.plot(thetas, [l2_loss(i) for i in thetas])\n",
        "plt.plot(theta_solution, l2_loss(theta_solution), 'ro', label = f'solution: {np.round(theta_solution[0], 3)}')\n",
        "plt.legend();\n",
        "plt.title(r'Minimizing Mean Squared Error given $\\theta$');\n",
        "plt.xlabel(r'$\\theta$')\n",
        "plt.ylabel('MSE');\n"
      ],
      "metadata": {
        "colab": {
          "base_uri": "https://localhost:8080/",
          "height": 356
        },
        "id": "vJfWUI1fCvZi",
        "outputId": "78a9042f-0a3a-41b3-d128-9172c5d3f738"
      },
      "execution_count": null,
      "outputs": [
        {
          "output_type": "error",
          "ename": "NameError",
          "evalue": "name 'y' is not defined",
          "traceback": [
            "\u001b[0;31m---------------------------------------------------------------------------\u001b[0m",
            "\u001b[0;31mNameError\u001b[0m                                 Traceback (most recent call last)",
            "\u001b[0;32m<ipython-input-3-1bc0ed068ef8>\u001b[0m in \u001b[0;36m<cell line: 10>\u001b[0;34m()\u001b[0m\n\u001b[1;32m      8\u001b[0m     \u001b[0;32mreturn\u001b[0m \u001b[0mnp\u001b[0m\u001b[0;34m.\u001b[0m\u001b[0mmean\u001b[0m\u001b[0;34m(\u001b[0m\u001b[0;34m(\u001b[0m\u001b[0my\u001b[0m\u001b[0;34m-\u001b[0m\u001b[0mtheta\u001b[0m\u001b[0;34m*\u001b[0m\u001b[0mx\u001b[0m\u001b[0;34m)\u001b[0m\u001b[0;34m**\u001b[0m\u001b[0;36m2\u001b[0m\u001b[0;34m)\u001b[0m\u001b[0;34m\u001b[0m\u001b[0;34m\u001b[0m\u001b[0m\n\u001b[1;32m      9\u001b[0m \u001b[0;34m\u001b[0m\u001b[0m\n\u001b[0;32m---> 10\u001b[0;31m \u001b[0mminimum_theta\u001b[0m \u001b[0;34m=\u001b[0m \u001b[0mminimize\u001b[0m\u001b[0;34m(\u001b[0m\u001b[0ml2_loss\u001b[0m\u001b[0;34m,\u001b[0m \u001b[0mx0\u001b[0m\u001b[0;34m=\u001b[0m\u001b[0;36m4\u001b[0m\u001b[0;34m)\u001b[0m\u001b[0;34m\u001b[0m\u001b[0;34m\u001b[0m\u001b[0m\n\u001b[0m\u001b[1;32m     11\u001b[0m \u001b[0mtheta_solution\u001b[0m \u001b[0;34m=\u001b[0m \u001b[0mminimum_theta\u001b[0m\u001b[0;34m.\u001b[0m\u001b[0mx\u001b[0m\u001b[0;34m\u001b[0m\u001b[0;34m\u001b[0m\u001b[0m\n\u001b[1;32m     12\u001b[0m \u001b[0;34m\u001b[0m\u001b[0m\n",
            "\u001b[0;32m/usr/local/lib/python3.10/dist-packages/scipy/optimize/_minimize.py\u001b[0m in \u001b[0;36mminimize\u001b[0;34m(fun, x0, args, method, jac, hess, hessp, bounds, constraints, tol, callback, options)\u001b[0m\n\u001b[1;32m    706\u001b[0m         \u001b[0mres\u001b[0m \u001b[0;34m=\u001b[0m \u001b[0m_minimize_cg\u001b[0m\u001b[0;34m(\u001b[0m\u001b[0mfun\u001b[0m\u001b[0;34m,\u001b[0m \u001b[0mx0\u001b[0m\u001b[0;34m,\u001b[0m \u001b[0margs\u001b[0m\u001b[0;34m,\u001b[0m \u001b[0mjac\u001b[0m\u001b[0;34m,\u001b[0m \u001b[0mcallback\u001b[0m\u001b[0;34m,\u001b[0m \u001b[0;34m**\u001b[0m\u001b[0moptions\u001b[0m\u001b[0;34m)\u001b[0m\u001b[0;34m\u001b[0m\u001b[0;34m\u001b[0m\u001b[0m\n\u001b[1;32m    707\u001b[0m     \u001b[0;32melif\u001b[0m \u001b[0mmeth\u001b[0m \u001b[0;34m==\u001b[0m \u001b[0;34m'bfgs'\u001b[0m\u001b[0;34m:\u001b[0m\u001b[0;34m\u001b[0m\u001b[0;34m\u001b[0m\u001b[0m\n\u001b[0;32m--> 708\u001b[0;31m         \u001b[0mres\u001b[0m \u001b[0;34m=\u001b[0m \u001b[0m_minimize_bfgs\u001b[0m\u001b[0;34m(\u001b[0m\u001b[0mfun\u001b[0m\u001b[0;34m,\u001b[0m \u001b[0mx0\u001b[0m\u001b[0;34m,\u001b[0m \u001b[0margs\u001b[0m\u001b[0;34m,\u001b[0m \u001b[0mjac\u001b[0m\u001b[0;34m,\u001b[0m \u001b[0mcallback\u001b[0m\u001b[0;34m,\u001b[0m \u001b[0;34m**\u001b[0m\u001b[0moptions\u001b[0m\u001b[0;34m)\u001b[0m\u001b[0;34m\u001b[0m\u001b[0;34m\u001b[0m\u001b[0m\n\u001b[0m\u001b[1;32m    709\u001b[0m     \u001b[0;32melif\u001b[0m \u001b[0mmeth\u001b[0m \u001b[0;34m==\u001b[0m \u001b[0;34m'newton-cg'\u001b[0m\u001b[0;34m:\u001b[0m\u001b[0;34m\u001b[0m\u001b[0;34m\u001b[0m\u001b[0m\n\u001b[1;32m    710\u001b[0m         res = _minimize_newtoncg(fun, x0, args, jac, hess, hessp, callback,\n",
            "\u001b[0;32m/usr/local/lib/python3.10/dist-packages/scipy/optimize/_optimize.py\u001b[0m in \u001b[0;36m_minimize_bfgs\u001b[0;34m(fun, x0, args, jac, callback, gtol, norm, eps, maxiter, disp, return_all, finite_diff_rel_step, xrtol, c1, c2, hess_inv0, **unknown_options)\u001b[0m\n\u001b[1;32m   1370\u001b[0m         \u001b[0mmaxiter\u001b[0m \u001b[0;34m=\u001b[0m \u001b[0mlen\u001b[0m\u001b[0;34m(\u001b[0m\u001b[0mx0\u001b[0m\u001b[0;34m)\u001b[0m \u001b[0;34m*\u001b[0m \u001b[0;36m200\u001b[0m\u001b[0;34m\u001b[0m\u001b[0;34m\u001b[0m\u001b[0m\n\u001b[1;32m   1371\u001b[0m \u001b[0;34m\u001b[0m\u001b[0m\n\u001b[0;32m-> 1372\u001b[0;31m     sf = _prepare_scalar_function(fun, x0, jac, args=args, epsilon=eps,\n\u001b[0m\u001b[1;32m   1373\u001b[0m                                   finite_diff_rel_step=finite_diff_rel_step)\n\u001b[1;32m   1374\u001b[0m \u001b[0;34m\u001b[0m\u001b[0m\n",
            "\u001b[0;32m/usr/local/lib/python3.10/dist-packages/scipy/optimize/_optimize.py\u001b[0m in \u001b[0;36m_prepare_scalar_function\u001b[0;34m(fun, x0, jac, args, bounds, epsilon, finite_diff_rel_step, hess)\u001b[0m\n\u001b[1;32m    286\u001b[0m     \u001b[0;31m# ScalarFunction caches. Reuse of fun(x) during grad\u001b[0m\u001b[0;34m\u001b[0m\u001b[0;34m\u001b[0m\u001b[0m\n\u001b[1;32m    287\u001b[0m     \u001b[0;31m# calculation reduces overall function evaluations.\u001b[0m\u001b[0;34m\u001b[0m\u001b[0;34m\u001b[0m\u001b[0m\n\u001b[0;32m--> 288\u001b[0;31m     sf = ScalarFunction(fun, x0, args, grad, hess,\n\u001b[0m\u001b[1;32m    289\u001b[0m                         finite_diff_rel_step, bounds, epsilon=epsilon)\n\u001b[1;32m    290\u001b[0m \u001b[0;34m\u001b[0m\u001b[0m\n",
            "\u001b[0;32m/usr/local/lib/python3.10/dist-packages/scipy/optimize/_differentiable_functions.py\u001b[0m in \u001b[0;36m__init__\u001b[0;34m(self, fun, x0, args, grad, hess, finite_diff_rel_step, finite_diff_bounds, epsilon)\u001b[0m\n\u001b[1;32m    164\u001b[0m \u001b[0;34m\u001b[0m\u001b[0m\n\u001b[1;32m    165\u001b[0m         \u001b[0mself\u001b[0m\u001b[0;34m.\u001b[0m\u001b[0m_update_fun_impl\u001b[0m \u001b[0;34m=\u001b[0m \u001b[0mupdate_fun\u001b[0m\u001b[0;34m\u001b[0m\u001b[0;34m\u001b[0m\u001b[0m\n\u001b[0;32m--> 166\u001b[0;31m         \u001b[0mself\u001b[0m\u001b[0;34m.\u001b[0m\u001b[0m_update_fun\u001b[0m\u001b[0;34m(\u001b[0m\u001b[0;34m)\u001b[0m\u001b[0;34m\u001b[0m\u001b[0;34m\u001b[0m\u001b[0m\n\u001b[0m\u001b[1;32m    167\u001b[0m \u001b[0;34m\u001b[0m\u001b[0m\n\u001b[1;32m    168\u001b[0m         \u001b[0;31m# Gradient evaluation\u001b[0m\u001b[0;34m\u001b[0m\u001b[0;34m\u001b[0m\u001b[0m\n",
            "\u001b[0;32m/usr/local/lib/python3.10/dist-packages/scipy/optimize/_differentiable_functions.py\u001b[0m in \u001b[0;36m_update_fun\u001b[0;34m(self)\u001b[0m\n\u001b[1;32m    260\u001b[0m     \u001b[0;32mdef\u001b[0m \u001b[0m_update_fun\u001b[0m\u001b[0;34m(\u001b[0m\u001b[0mself\u001b[0m\u001b[0;34m)\u001b[0m\u001b[0;34m:\u001b[0m\u001b[0;34m\u001b[0m\u001b[0;34m\u001b[0m\u001b[0m\n\u001b[1;32m    261\u001b[0m         \u001b[0;32mif\u001b[0m \u001b[0;32mnot\u001b[0m \u001b[0mself\u001b[0m\u001b[0;34m.\u001b[0m\u001b[0mf_updated\u001b[0m\u001b[0;34m:\u001b[0m\u001b[0;34m\u001b[0m\u001b[0;34m\u001b[0m\u001b[0m\n\u001b[0;32m--> 262\u001b[0;31m             \u001b[0mself\u001b[0m\u001b[0;34m.\u001b[0m\u001b[0m_update_fun_impl\u001b[0m\u001b[0;34m(\u001b[0m\u001b[0;34m)\u001b[0m\u001b[0;34m\u001b[0m\u001b[0;34m\u001b[0m\u001b[0m\n\u001b[0m\u001b[1;32m    263\u001b[0m             \u001b[0mself\u001b[0m\u001b[0;34m.\u001b[0m\u001b[0mf_updated\u001b[0m \u001b[0;34m=\u001b[0m \u001b[0;32mTrue\u001b[0m\u001b[0;34m\u001b[0m\u001b[0;34m\u001b[0m\u001b[0m\n\u001b[1;32m    264\u001b[0m \u001b[0;34m\u001b[0m\u001b[0m\n",
            "\u001b[0;32m/usr/local/lib/python3.10/dist-packages/scipy/optimize/_differentiable_functions.py\u001b[0m in \u001b[0;36mupdate_fun\u001b[0;34m()\u001b[0m\n\u001b[1;32m    161\u001b[0m \u001b[0;34m\u001b[0m\u001b[0m\n\u001b[1;32m    162\u001b[0m         \u001b[0;32mdef\u001b[0m \u001b[0mupdate_fun\u001b[0m\u001b[0;34m(\u001b[0m\u001b[0;34m)\u001b[0m\u001b[0;34m:\u001b[0m\u001b[0;34m\u001b[0m\u001b[0;34m\u001b[0m\u001b[0m\n\u001b[0;32m--> 163\u001b[0;31m             \u001b[0mself\u001b[0m\u001b[0;34m.\u001b[0m\u001b[0mf\u001b[0m \u001b[0;34m=\u001b[0m \u001b[0mfun_wrapped\u001b[0m\u001b[0;34m(\u001b[0m\u001b[0mself\u001b[0m\u001b[0;34m.\u001b[0m\u001b[0mx\u001b[0m\u001b[0;34m)\u001b[0m\u001b[0;34m\u001b[0m\u001b[0;34m\u001b[0m\u001b[0m\n\u001b[0m\u001b[1;32m    164\u001b[0m \u001b[0;34m\u001b[0m\u001b[0m\n\u001b[1;32m    165\u001b[0m         \u001b[0mself\u001b[0m\u001b[0;34m.\u001b[0m\u001b[0m_update_fun_impl\u001b[0m \u001b[0;34m=\u001b[0m \u001b[0mupdate_fun\u001b[0m\u001b[0;34m\u001b[0m\u001b[0;34m\u001b[0m\u001b[0m\n",
            "\u001b[0;32m/usr/local/lib/python3.10/dist-packages/scipy/optimize/_differentiable_functions.py\u001b[0m in \u001b[0;36mfun_wrapped\u001b[0;34m(x)\u001b[0m\n\u001b[1;32m    143\u001b[0m             \u001b[0;31m# Overwriting results in undefined behaviour because\u001b[0m\u001b[0;34m\u001b[0m\u001b[0;34m\u001b[0m\u001b[0m\n\u001b[1;32m    144\u001b[0m             \u001b[0;31m# fun(self.x) will change self.x, with the two no longer linked.\u001b[0m\u001b[0;34m\u001b[0m\u001b[0;34m\u001b[0m\u001b[0m\n\u001b[0;32m--> 145\u001b[0;31m             \u001b[0mfx\u001b[0m \u001b[0;34m=\u001b[0m \u001b[0mfun\u001b[0m\u001b[0;34m(\u001b[0m\u001b[0mnp\u001b[0m\u001b[0;34m.\u001b[0m\u001b[0mcopy\u001b[0m\u001b[0;34m(\u001b[0m\u001b[0mx\u001b[0m\u001b[0;34m)\u001b[0m\u001b[0;34m,\u001b[0m \u001b[0;34m*\u001b[0m\u001b[0margs\u001b[0m\u001b[0;34m)\u001b[0m\u001b[0;34m\u001b[0m\u001b[0;34m\u001b[0m\u001b[0m\n\u001b[0m\u001b[1;32m    146\u001b[0m             \u001b[0;31m# Make sure the function returns a true scalar\u001b[0m\u001b[0;34m\u001b[0m\u001b[0;34m\u001b[0m\u001b[0m\n\u001b[1;32m    147\u001b[0m             \u001b[0;32mif\u001b[0m \u001b[0;32mnot\u001b[0m \u001b[0mnp\u001b[0m\u001b[0;34m.\u001b[0m\u001b[0misscalar\u001b[0m\u001b[0;34m(\u001b[0m\u001b[0mfx\u001b[0m\u001b[0;34m)\u001b[0m\u001b[0;34m:\u001b[0m\u001b[0;34m\u001b[0m\u001b[0;34m\u001b[0m\u001b[0m\n",
            "\u001b[0;32m<ipython-input-3-1bc0ed068ef8>\u001b[0m in \u001b[0;36ml2_loss\u001b[0;34m(theta)\u001b[0m\n\u001b[1;32m      6\u001b[0m \u001b[0;34m\u001b[0m\u001b[0m\n\u001b[1;32m      7\u001b[0m \u001b[0;32mdef\u001b[0m \u001b[0ml2_loss\u001b[0m\u001b[0;34m(\u001b[0m\u001b[0mtheta\u001b[0m\u001b[0;34m)\u001b[0m\u001b[0;34m:\u001b[0m\u001b[0;34m\u001b[0m\u001b[0;34m\u001b[0m\u001b[0m\n\u001b[0;32m----> 8\u001b[0;31m     \u001b[0;32mreturn\u001b[0m \u001b[0mnp\u001b[0m\u001b[0;34m.\u001b[0m\u001b[0mmean\u001b[0m\u001b[0;34m(\u001b[0m\u001b[0;34m(\u001b[0m\u001b[0my\u001b[0m\u001b[0;34m-\u001b[0m\u001b[0mtheta\u001b[0m\u001b[0;34m*\u001b[0m\u001b[0mx\u001b[0m\u001b[0;34m)\u001b[0m\u001b[0;34m**\u001b[0m\u001b[0;36m2\u001b[0m\u001b[0;34m)\u001b[0m\u001b[0;34m\u001b[0m\u001b[0;34m\u001b[0m\u001b[0m\n\u001b[0m\u001b[1;32m      9\u001b[0m \u001b[0;34m\u001b[0m\u001b[0m\n\u001b[1;32m     10\u001b[0m \u001b[0mminimum_theta\u001b[0m \u001b[0;34m=\u001b[0m \u001b[0mminimize\u001b[0m\u001b[0;34m(\u001b[0m\u001b[0ml2_loss\u001b[0m\u001b[0;34m,\u001b[0m \u001b[0mx0\u001b[0m\u001b[0;34m=\u001b[0m\u001b[0;36m4\u001b[0m\u001b[0;34m)\u001b[0m\u001b[0;34m\u001b[0m\u001b[0;34m\u001b[0m\u001b[0m\n",
            "\u001b[0;31mNameError\u001b[0m: name 'y' is not defined"
          ]
        }
      ]
    },
    {
      "cell_type": "code",
      "source": [],
      "metadata": {
        "id": "fhHN7vBsCvNZ"
      },
      "execution_count": null,
      "outputs": []
    },
    {
      "cell_type": "markdown",
      "source": [
        "### Calculating MSE & MAE ###\n",
        "-- Complete the mae & mse function below that takes in a value for  𝜃\n",
        "--Your function should compute and return the mean absolute error based on the --model  𝑦=𝜃∗𝑥\n"
      ],
      "metadata": {
        "id": "Hd5LcphfihWv"
      }
    },
    {
      "cell_type": "code",
      "source": [
        "def mae_loss(theta):\n",
        "    return np.mean(abs(theta*x-y))\n",
        "def mse_loss(theta):\n",
        "    return np.mean((y-theta*x)**2)\n",
        "\n",
        "mae = mae_loss(8)\n",
        "print(mae)\n",
        "print(type(mae))\n",
        "mse = mse_loss(8)\n",
        "print(mse)\n",
        "print(type(mse))"
      ],
      "metadata": {
        "id": "jcMcEZPIilEf"
      },
      "execution_count": null,
      "outputs": []
    },
    {
      "cell_type": "markdown",
      "source": [
        "-- Use the minimize function imported from scipy.optimize to determine the value for mae_loss that minimizes the Mean Absolute Error & MSE loss function starting at x0 = 4. Assign this result to minimum_theta.\n",
        "\n",
        "--Next, use the minimum_theta.x[0] attribute to assign the solution as a float to theta_mae below."
      ],
      "metadata": {
        "id": "RUsaZ8gGi-oh"
      }
    },
    {
      "cell_type": "code",
      "source": [
        "### GRADED\n",
        "minimum_theta = ''\n",
        "theta_mae = ''\n",
        "\n",
        "# YOUR CODE HERE\n",
        "minimum_theta = minimize(mae_loss, x0=4)\n",
        "theta_mae = minimum_theta.x[0]\n",
        "\n",
        "minimum_theta = ''\n",
        "\n",
        "minimum_theta = minimize(mse_loss, x0=4)\n",
        "theta_mse = minimum_theta.x[0]\n",
        "\n",
        "# Answer check\n",
        "print(type(theta_mae))\n",
        "print(theta_mae)\n",
        "print(type(theta_mse))\n",
        "print(theta_mse)\n",
        "\n",
        "thetas = np.linspace(-1, 5, 1000)\n",
        "plt.plot(thetas, [mae_loss(i) for i in thetas])\n",
        "plt.plot(theta_mae, mae_loss(theta_mae), 'ro', label = f'solution: {np.round(theta_mae[0], 3)}')\n",
        "plt.legend();\n",
        "plt.title(r'Minimizing Mean Absolute Error given $\\theta$');\n",
        "plt.xlabel(r'$\\theta$')\n",
        "plt.ylabel('MAE');\n",
        "\n",
        "thetas = np.linspace(-1, 5, 1000)\n",
        "plt.plot(thetas, [mse_loss(i) for i in thetas])\n",
        "plt.plot(theta_mse, mse_loss(theta_mse), 'ro', label = f'solution: {np.round(theta_mse[0], 3)}')\n",
        "plt.legend();\n",
        "plt.title(r'Minimizing Mean Squared Error given $\\theta$');\n",
        "plt.xlabel('theta')\n",
        "plt.ylabel('MSE');"
      ],
      "metadata": {
        "id": "kxlPNutEjI7e"
      },
      "execution_count": null,
      "outputs": []
    },
    {
      "cell_type": "code",
      "source": [],
      "metadata": {
        "id": "OpwL0Byx0ogA"
      },
      "execution_count": null,
      "outputs": []
    }
  ],
  "metadata": {
    "celltoolbar": "Create Assignment",
    "kernelspec": {
      "display_name": "Python 3 (ipykernel)",
      "language": "python",
      "name": "python3"
    },
    "language_info": {
      "codemirror_mode": {
        "name": "ipython",
        "version": 3
      },
      "file_extension": ".py",
      "mimetype": "text/x-python",
      "name": "python",
      "nbconvert_exporter": "python",
      "pygments_lexer": "ipython3",
      "version": "3.12.1"
    },
    "colab": {
      "provenance": [],
      "include_colab_link": true
    }
  },
  "nbformat": 4,
  "nbformat_minor": 0
}