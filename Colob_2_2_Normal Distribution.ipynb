{
  "cells": [
    {
      "cell_type": "markdown",
      "metadata": {
        "id": "view-in-github",
        "colab_type": "text"
      },
      "source": [
        "<a href=\"https://colab.research.google.com/github/jaidatta71/ML---Berkeley/blob/main/Colob_2_2_Normal%20Distribution.ipynb\" target=\"_parent\"><img src=\"https://colab.research.google.com/assets/colab-badge.svg\" alt=\"Open In Colab\"/></a>"
      ]
    },
    {
      "cell_type": "markdown",
      "metadata": {
        "nbgrader": {
          "grade": false,
          "grade_id": "cell-0bff1a324f359386",
          "locked": true,
          "schema_version": 1,
          "solution": false
        },
        "id": "i1c6JCfg6Sea"
      },
      "source": [
        "## Self-Study Colab Activity 2.2: The Law of Large Numbers\n",
        "\n",
        "**Expected Time: 45 Minutes**\n",
        "\n",
        "\n",
        "In this activity, you will draw samples of an increasing size from a given distribution.  These sample means will be tracked and compared to those known from the larger distribution.  You are to use the `scipy.stats` module and its distribution objects to produce these distributions and their samples.\n",
        "\n",
        "## Index:\n",
        "\n",
        "- [Problem 1](#Problem-1:-A-Uniform-Distribution)\n",
        "- [Problem 2](#Problem-2:-Loop-of-Samples)\n",
        "- [Problem 3](#Problem-3:-Comparing-the-sample-means-to-actual)\n",
        "- [Problem 4](#Problem-4:-Distribution-of-Sample-Means)\n",
        "- [Problem 5](#Problem-5:-Repeat-with-Gaussian-Distribution)\n"
      ]
    },
    {
      "cell_type": "code",
      "execution_count": 1,
      "metadata": {
        "id": "6_t-Cr9p6See"
      },
      "outputs": [],
      "source": [
        "import numpy as np\n",
        "import pandas as pd\n",
        "import matplotlib.pyplot as plt\n",
        "from scipy.stats import uniform, norm"
      ]
    },
    {
      "cell_type": "markdown",
      "metadata": {
        "nbgrader": {
          "grade": false,
          "grade_id": "cell-0599760f8eb84292",
          "locked": true,
          "schema_version": 1,
          "solution": false
        },
        "id": "wrOkShD56Sef"
      },
      "source": [
        "[Back to top](#Index:)\n",
        "\n",
        "### Problem 1: A Uniform Distribution\n",
        "\n",
        "\n",
        "\n",
        "Use the `uniform` function to create a uniform distribution with `loc = 5` and `scale = 10`.  Assign your results as a distribution object to the variable `dist1` below.\n",
        "\n",
        "Done correctly, this code will produce uniformly distributed points between 5 and 15 with mean at 10."
      ]
    },
    {
      "cell_type": "code",
      "execution_count": 29,
      "metadata": {
        "nbgrader": {
          "grade": false,
          "grade_id": "cell-e19a29726f7a7f59",
          "locked": false,
          "schema_version": 1,
          "solution": true
        },
        "colab": {
          "base_uri": "https://localhost:8080/"
        },
        "id": "0ZScTWq46Seg",
        "outputId": "a6f8501a-ce1b-4782-e8ae-ad6255db5b37"
      },
      "outputs": [
        {
          "output_type": "stream",
          "name": "stdout",
          "text": [
            "<class 'scipy.stats._distn_infrastructure.rv_continuous_frozen'>\n"
          ]
        }
      ],
      "source": [
        "### GRADED\n",
        "\n",
        "dist1 = uniform(loc=10,scale=5)\n",
        "\n",
        "# Answer check\n",
        "print(type(dist1))\n"
      ]
    },
    {
      "cell_type": "markdown",
      "metadata": {
        "nbgrader": {
          "grade": false,
          "grade_id": "cell-715829a75ba9fccc",
          "locked": true,
          "schema_version": 1,
          "solution": false
        },
        "id": "34HqOu546Seh"
      },
      "source": [
        "###  Problem 2: Loop of Samples\n",
        "\n",
        "\n",
        "Use a `for` loop to generate samples of sizes from 1 to 500. Inside the `for` loop, use the `.rvs` method on `dist1` to return a random sample. Inside the `.rvs` method, set `random_state` equal to 22.  Use `np.mean` to compute the sample mean of each sample size. Append each sample mean to the list `sample_means`.  "
      ]
    },
    {
      "cell_type": "code",
      "execution_count": 64,
      "metadata": {
        "nbgrader": {
          "grade": false,
          "grade_id": "cell-e6ebb7028e816557",
          "locked": false,
          "schema_version": 1,
          "solution": true
        },
        "id": "QADiJnqk6Seh",
        "outputId": "e9f33bc6-1c84-4570-ea48-2044b902a419",
        "colab": {
          "base_uri": "https://localhost:8080/"
        }
      },
      "outputs": [
        {
          "output_type": "stream",
          "name": "stdout",
          "text": [
            "<class 'list'>\n",
            "[np.float64(8.745401188473625), np.float64(11.626272126286393), np.float64(11.857494556895611), np.float64(11.639767128164301), np.float64(10.623850983416315)] \n",
            " [np.float64(9.97296088338801), np.float64(9.974698509615619), np.float64(9.966270091663882), np.float64(9.975844596643835), np.float64(9.98561712234014)]\n"
          ]
        }
      ],
      "source": [
        "sample_means=[]\n",
        "for i in range(1, 501):\n",
        "  s1 = dist1.rvs(size=i, random_state=42)\n",
        "  mm = np.mean(s1)\n",
        "  sample_means.append(mm)\n",
        "  #sample_means = sample_means + [mm]\n",
        "\n",
        "  # Answer check\n",
        "print(type(sample_means))\n",
        "print(sample_means[:5], '\\n', sample_means[-5:])"
      ]
    },
    {
      "cell_type": "markdown",
      "metadata": {
        "nbgrader": {
          "grade": false,
          "grade_id": "cell-6b3e8778dd9e4f7b",
          "locked": true,
          "schema_version": 1,
          "solution": false
        },
        "id": "8k2jzQaL6Ser"
      },
      "source": [
        "### Problem 3: Comparing the sample means to the actual mean\n",
        "\n",
        "\n",
        "Note that the actual mean of our data is 10.  \n",
        "\n",
        "Does the sample mean approximate to the true mean with an error of less than .1 when the sample size is equal to 400?  Assign your answer as a boolean value to `ans3` below -- True for yes, False for no.  \n",
        "\n",
        "To help you with this exercise, the results of the sample mean are plot below:"
      ]
    },
    {
      "cell_type": "code",
      "execution_count": 54,
      "metadata": {
        "id": "PPJsj4Tz6Ser",
        "outputId": "0b025276-448b-463a-b8bc-961791153c91",
        "colab": {
          "base_uri": "https://localhost:8080/",
          "height": 451
        }
      },
      "outputs": [
        {
          "output_type": "display_data",
          "data": {
            "text/plain": [
              "<Figure size 640x480 with 1 Axes>"
            ],
            "image/png": "[encoded data removed]"
          },
          "metadata": {}
        }
      ],
      "source": [
        "plt.plot(range(1, 501), sample_means, label = 'sample mean', color = 'purple')\n",
        "plt.axhline(10, label = 'true mean', color = 'green')\n",
        "plt.xlabel('Sample Size')\n",
        "plt.legend();"
      ]
    },
    {
      "cell_type": "code",
      "execution_count": 56,
      "metadata": {
        "nbgrader": {
          "grade": false,
          "grade_id": "cell-760f114b86f46710",
          "locked": false,
          "schema_version": 1,
          "solution": true
        },
        "id": "B1-TrPf-6Ser",
        "outputId": "ae8a3db3-04ba-45a8-b64f-de8ba644b18d",
        "colab": {
          "base_uri": "https://localhost:8080/"
        }
      },
      "outputs": [
        {
          "output_type": "stream",
          "name": "stdout",
          "text": [
            "9.942241690605716\n",
            "0.05775830939428417\n",
            "True\n",
            "<class 'numpy.bool'>\n"
          ]
        }
      ],
      "source": [
        "# sample mean when the sample size is equal to 400\n",
        "# Check error if it is less than .1 when the sample size is equal to 400\n",
        "print(sample_means[399])\n",
        "print(abs(sample_means[399] - 10))\n",
        "ans3 =  abs(sample_means[399] - 10) < .1\n",
        "\n",
        "# Answer check\n",
        "print(ans3)\n",
        "print(type(ans3))"
      ]
    },
    {
      "cell_type": "markdown",
      "metadata": {
        "nbgrader": {
          "grade": false,
          "grade_id": "cell-6860b63501e42b25",
          "locked": true,
          "schema_version": 1,
          "solution": false
        },
        "id": "q69LZoap6Ses"
      },
      "source": [
        "### Problem 4: Distribution of Sample Means\n",
        "\n",
        "\n",
        "As you notice in the plot above, there is a larger variation in the small sample sizes.  As the lectures suggest, consider only those samples of size 30 or more and compute their mean and standard deviation.  \n",
        "\n",
        "Assign the samples of size 30 or more as a list to the variable `samples_30_or_more` below.\n",
        "\n",
        "Use `np.mean()` to compute the mean and assign the result to the variable `samples_mean`.\n",
        "\n",
        "Use `np.std()` to compute the standard deviation and assign the result to the variable `samples_std`.\n",
        "\n",
        "Uncomment the code to see a histogram of these sample means.  \n",
        "\n",
        "HINT: remember that Python starts counting at 0, so using `sample_means[30:]` is actually incorrect."
      ]
    },
    {
      "cell_type": "code",
      "execution_count": 86,
      "metadata": {
        "nbgrader": {
          "grade": false,
          "grade_id": "cell-6b84832c8690fe91",
          "locked": false,
          "schema_version": 1,
          "solution": true
        },
        "id": "OTQ2Y3P-6Ses",
        "outputId": "efc4a5d9-671f-4b07-c5e7-d30752a68e46",
        "colab": {
          "base_uri": "https://localhost:8080/",
          "height": 501
        }
      },
      "outputs": [
        {
          "output_type": "stream",
          "name": "stdout",
          "text": [
            "<class 'list'>\n",
            "9.926403777871194\n",
            "2.918906533035666\n"
          ]
        },
        {
          "output_type": "display_data",
          "data": {
            "text/plain": [
              "<Figure size 640x480 with 1 Axes>"
            ],
            "image/png": "[encoded data removed]"
          },
          "metadata": {}
        }
      ],
      "source": [
        "# Assign the samples of size 30 or more as a list to the variable samples_30_or_more below\n",
        "samples_means_30_or_more = sample_means[29:]\n",
        "np.mean(samples_means_30_or_more)\n",
        "np.std(samples_means_30_or_more)\n",
        "\n",
        "#Uncomment the code below to see a plot of your solution\n",
        "#plt.hist(samples_means_30_or_more, edgecolor = 'black', alpha = 0.3)\n",
        "#plt.title('Distribution of Sample Means');\n",
        "\n",
        "plt.plot(range(30, 501), samples_means_30_or_more, label = 'sample mean', color = 'purple')\n",
        "plt.axhline(10, label = 'true mean', color = 'green')\n",
        "plt.xlabel('Sample Size')\n",
        "plt.legend();\n",
        "\n",
        "# Answer check\n",
        "print(type(samples_means_30_or_more))\n",
        "print(samples_mean)\n",
        "print(samples_std)\n"
      ]
    },
    {
      "cell_type": "markdown",
      "metadata": {
        "nbgrader": {
          "grade": false,
          "grade_id": "cell-81d097c21d8b29eb",
          "locked": true,
          "schema_version": 1,
          "solution": false
        },
        "id": "UVjJKmMU6Set"
      },
      "source": [
        "### Problem 5: Repeat with Gaussian Distribution\n",
        "\n",
        "\n",
        "\n",
        "Now, you are to repeat the above exercise using samples from a Gaussian distribution\n",
        "\n",
        "\n",
        "Use the function `norm` with argument `loc` equal to five and `scale` equal to ten to define a Gaussian distribution and assign the result to `gauss_dist`.\n",
        "\n",
        "Use a `for` loop to generate samples of sizes from 30 to 500. Inside the `for` loop, use the `.rvs` method on `gauss_dist` to return a random sample. Inside the `.rvs` method, set `random_state` equal to 22.  Use `np.mean` to compute the sample mean of each sample size. Append each sample mean to the list `sample_means_gauss`.  \n",
        "\n",
        "Outside the `for` loop, use `np.mean()` to compute the mean and assign the result to the variable `gauss_mean`.\n",
        "\n",
        "Outside the `for` loop, use `np.std()` to compute the standard deviation and assign the result to the variable `gauss_standard_deviation`."
      ]
    },
    {
      "cell_type": "code",
      "execution_count": 87,
      "metadata": {
        "nbgrader": {
          "grade": false,
          "grade_id": "cell-66731bec3448d1a4",
          "locked": false,
          "schema_version": 1,
          "solution": true
        },
        "id": "8FWr3K5g6Set",
        "outputId": "8ace884d-5f64-4975-8c73-01663a09028c",
        "colab": {
          "base_uri": "https://localhost:8080/"
        }
      },
      "outputs": [
        {
          "output_type": "stream",
          "name": "stdout",
          "text": [
            "<class 'list'>\n",
            "[np.float64(5.711989769815023), np.float64(6.495208371007466), np.float64(5.670348611610735), np.float64(5.578864596890512), np.float64(5.5331440323908465)] \n",
            " [np.float64(5.85212242634483), np.float64(5.842782955969858), np.float64(5.840843359217326), np.float64(5.834153785572032), np.float64(5.841178380882507)]\n",
            "5.568508473194311\n",
            "0.5371819419572758\n"
          ]
        }
      ],
      "source": [
        "gauss_dist = norm(loc=5, scale=10)\n",
        "sample_means_gauss = []\n",
        "\n",
        "#create the distribution object\n",
        "for i in range(30, 501):\n",
        "  gg = gauss_dist.rvs(size=i, random_state=22)\n",
        "  gauss_mean = np.mean(gg)\n",
        "  sample_means_gauss.append(gauss_mean)\n",
        "\n",
        "gauss_mean = np.mean(sample_means_gauss)\n",
        "gauss_standard_deviation = np.std(sample_means_gauss)\n",
        "\n",
        "# Answer check\n",
        "print(type(sample_means_gauss))\n",
        "print(sample_means_gauss[:5], '\\n', sample_means_gauss[-5:])\n",
        "print(gauss_mean)\n",
        "print(gauss_standard_deviation)"
      ]
    },
    {
      "cell_type": "code",
      "execution_count": null,
      "metadata": {
        "id": "jSha2-E86Seu"
      },
      "outputs": [],
      "source": []
    }
  ],
  "metadata": {
    "celltoolbar": "Create Assignment",
    "kernelspec": {
      "display_name": "Python 3",
      "language": "python",
      "name": "python3"
    },
    "language_info": {
      "codemirror_mode": {
        "name": "ipython",
        "version": 3
      },
      "file_extension": ".py",
      "mimetype": "text/x-python",
      "name": "python",
      "nbconvert_exporter": "python",
      "pygments_lexer": "ipython3",
      "version": "3.6.9"
    },
    "colab": {
      "provenance": [],
      "include_colab_link": true
    }
  },
  "nbformat": 4,
  "nbformat_minor": 0
}