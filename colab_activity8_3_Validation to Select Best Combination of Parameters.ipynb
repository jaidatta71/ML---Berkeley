{
  "cells": [
    {
      "cell_type": "markdown",
      "metadata": {
        "id": "view-in-github",
        "colab_type": "text"
      },
      "source": [
        "<a href=\"https://colab.research.google.com/github/jaidatta71/ML---Berkeley/blob/main/colab_activity8_3_Validation%20to%20Select%20Best%20Combination%20of%20Parameters.ipynb\" target=\"_parent\"><img src=\"https://colab.research.google.com/assets/colab-badge.svg\" alt=\"Open In Colab\"/></a>"
      ]
    },
    {
      "cell_type": "markdown",
      "metadata": {
        "nbgrader": {
          "grade": false,
          "grade_id": "cell-f4f3ef0fa8eec903",
          "locked": true,
          "schema_version": 3,
          "solution": false
        },
        "id": "5dYe-nTd6QVv"
      },
      "source": [
        "## Self-Study Colab Activity 8.3: Using Validation to Select the Best Combination of Parameters\n",
        "\n",
        "**Expected Time: 60 Minutes**\n",
        "\n",
        "\n",
        "This activity focuses on using a train/test split to select the best hyperparameters for a linear regression model complexity.  You will become familiar with scikit-learn's `train_test_split` function to generate a train/test split and use the results to evaluate the appropriate model complexity.  The datasets used are synthetic so as to allow a comparison with the learned best complexity to that which generated the data.  \n",
        "\n",
        "## Index:\n",
        "\n",
        "- [Problem 1](#Problem-1)\n",
        "- [Problem 2](#Problem-2)\n",
        "- [Problem 3](#Problem-3)\n",
        "- [Problem 4](#Problem-4)\n"
      ]
    },
    {
      "cell_type": "code",
      "execution_count": null,
      "metadata": {
        "id": "VpntckaW6QVz"
      },
      "outputs": [],
      "source": [
        "import numpy as np\n",
        "import matplotlib.pyplot as plt\n",
        "import seaborn as sns\n",
        "from sklearn.linear_model import LinearRegression\n",
        "from sklearn.metrics import mean_squared_error\n",
        "from sklearn.preprocessing import PolynomialFeatures\n",
        "from sklearn.pipeline import Pipeline\n",
        "from sklearn.model_selection import train_test_split\n",
        "import pandas as pd"
      ]
    },
    {
      "cell_type": "markdown",
      "metadata": {
        "nbgrader": {
          "grade": false,
          "grade_id": "cell-4816d0d701347e37",
          "locked": true,
          "schema_version": 3,
          "solution": false
        },
        "id": "uM-HpS_26QV1"
      },
      "source": [
        "### Three Synthetic Datasets\n",
        "\n",
        "Below, polynomial functions of different degrees were created, and noise was added to generate three basic synthetic datasets.  The relationships are then plotted. They are of varying true complexity -- cubic, quadratic, and quintic (polynomials of degree 5).  Your goal is to use cross-validation to determine the appropriate model and examine its mean squared error on a set of validation data."
      ]
    },
    {
      "cell_type": "code",
      "execution_count": null,
      "metadata": {
        "id": "qY91WS0V6QV2"
      },
      "outputs": [],
      "source": [
        "df = pd.read_csv('drive/MyDrive/colab_activity8_3_starter/data/synthetic_8.6.csv')\n",
        "\n",
        "#auto = pd.read_csv('drive/MyDrive/colab_activity8_1_starter/data/auto.csv')"
      ]
    },
    {
      "cell_type": "code",
      "source": [
        "from google.colab import drive\n",
        "drive.mount('/content/drive')"
      ],
      "metadata": {
        "colab": {
          "base_uri": "https://localhost:8080/"
        },
        "id": "r7o5FT3_N9il",
        "outputId": "1bcbe8a3-a1b4-484e-86fc-9ffd286159d6"
      },
      "execution_count": null,
      "outputs": [
        {
          "output_type": "stream",
          "name": "stdout",
          "text": [
            "Mounted at /content/drive\n"
          ]
        }
      ]
    },
    {
      "cell_type": "code",
      "execution_count": null,
      "metadata": {
        "colab": {
          "base_uri": "https://localhost:8080/",
          "height": 206
        },
        "id": "Ws-DaJBI6QV2",
        "outputId": "766d9972-5205-45dd-dcb5-54e62b6def88"
      },
      "outputs": [
        {
          "output_type": "execute_result",
          "data": {
            "text/plain": [
              "          x         y1         y2         y3\n",
              "0 -2.000000  -0.522368   5.698300   3.880352\n",
              "1 -1.929293  -0.711336  -0.257942   8.643553\n",
              "2 -1.858586  -4.759917  12.775233   6.116844\n",
              "3 -1.787879 -10.255472  22.140157  12.493956\n",
              "4 -1.717172  -3.503845  27.656110  10.335220"
            ],
            "text/html": [
              "\n",
              "  <div id=\"df-0ac54d1f-48bb-43ca-b522-b2b2479bb788\" class=\"colab-df-container\">\n",
              "    <div>\n",
              "<style scoped>\n",
              "    .dataframe tbody tr th:only-of-type {\n",
              "        vertical-align: middle;\n",
              "    }\n",
              "\n",
              "    .dataframe tbody tr th {\n",
              "        vertical-align: top;\n",
              "    }\n",
              "\n",
              "    .dataframe thead th {\n",
              "        text-align: right;\n",
              "    }\n",
              "</style>\n",
              "<table border=\"1\" class=\"dataframe\">\n",
              "  <thead>\n",
              "    <tr style=\"text-align: right;\">\n",
              "      <th></th>\n",
              "      <th>x</th>\n",
              "      <th>y1</th>\n",
              "      <th>y2</th>\n",
              "      <th>y3</th>\n",
              "    </tr>\n",
              "  </thead>\n",
              "  <tbody>\n",
              "    <tr>\n",
              "      <th>0</th>\n",
              "      <td>-2.000000</td>\n",
              "      <td>-0.522368</td>\n",
              "      <td>5.698300</td>\n",
              "      <td>3.880352</td>\n",
              "    </tr>\n",
              "    <tr>\n",
              "      <th>1</th>\n",
              "      <td>-1.929293</td>\n",
              "      <td>-0.711336</td>\n",
              "      <td>-0.257942</td>\n",
              "      <td>8.643553</td>\n",
              "    </tr>\n",
              "    <tr>\n",
              "      <th>2</th>\n",
              "      <td>-1.858586</td>\n",
              "      <td>-4.759917</td>\n",
              "      <td>12.775233</td>\n",
              "      <td>6.116844</td>\n",
              "    </tr>\n",
              "    <tr>\n",
              "      <th>3</th>\n",
              "      <td>-1.787879</td>\n",
              "      <td>-10.255472</td>\n",
              "      <td>22.140157</td>\n",
              "      <td>12.493956</td>\n",
              "    </tr>\n",
              "    <tr>\n",
              "      <th>4</th>\n",
              "      <td>-1.717172</td>\n",
              "      <td>-3.503845</td>\n",
              "      <td>27.656110</td>\n",
              "      <td>10.335220</td>\n",
              "    </tr>\n",
              "  </tbody>\n",
              "</table>\n",
              "</div>\n",
              "    <div class=\"colab-df-buttons\">\n",
              "\n",
              "  <div class=\"colab-df-container\">\n",
              "    <button class=\"colab-df-convert\" onclick=\"convertToInteractive('df-0ac54d1f-48bb-43ca-b522-b2b2479bb788')\"\n",
              "            title=\"Convert this dataframe to an interactive table.\"\n",
              "            style=\"display:none;\">\n",
              "\n",
              "  <svg xmlns=\"http://www.w3.org/2000/svg\" height=\"24px\" viewBox=\"0 -960 960 960\">\n",
              "    <path d=\"M120-120v-720h720v720H120Zm60-500h600v-160H180v160Zm220 220h160v-160H400v160Zm0 220h160v-160H400v160ZM180-400h160v-160H180v160Zm440 0h160v-160H620v160ZM180-180h160v-160H180v160Zm440 0h160v-160H620v160Z\"/>\n",
              "  </svg>\n",
              "    </button>\n",
              "\n",
              "  <style>\n",
              "    .colab-df-container {\n",
              "      display:flex;\n",
              "      gap: 12px;\n",
              "    }\n",
              "\n",
              "    .colab-df-convert {\n",
              "      background-color: #E8F0FE;\n",
              "      border: none;\n",
              "      border-radius: 50%;\n",
              "      cursor: pointer;\n",
              "      display: none;\n",
              "      fill: #1967D2;\n",
              "      height: 32px;\n",
              "      padding: 0 0 0 0;\n",
              "      width: 32px;\n",
              "    }\n",
              "\n",
              "    .colab-df-convert:hover {\n",
              "      background-color: #E2EBFA;\n",
              "      box-shadow: 0px 1px 2px rgba(60, 64, 67, 0.3), 0px 1px 3px 1px rgba(60, 64, 67, 0.15);\n",
              "      fill: #174EA6;\n",
              "    }\n",
              "\n",
              "    .colab-df-buttons div {\n",
              "      margin-bottom: 4px;\n",
              "    }\n",
              "\n",
              "    [theme=dark] .colab-df-convert {\n",
              "      background-color: #3B4455;\n",
              "      fill: #D2E3FC;\n",
              "    }\n",
              "\n",
              "    [theme=dark] .colab-df-convert:hover {\n",
              "      background-color: #434B5C;\n",
              "      box-shadow: 0px 1px 3px 1px rgba(0, 0, 0, 0.15);\n",
              "      filter: drop-shadow(0px 1px 2px rgba(0, 0, 0, 0.3));\n",
              "      fill: #FFFFFF;\n",
              "    }\n",
              "  </style>\n",
              "\n",
              "    <script>\n",
              "      const buttonEl =\n",
              "        document.querySelector('#df-0ac54d1f-48bb-43ca-b522-b2b2479bb788 button.colab-df-convert');\n",
              "      buttonEl.style.display =\n",
              "        google.colab.kernel.accessAllowed ? 'block' : 'none';\n",
              "\n",
              "      async function convertToInteractive(key) {\n",
              "        const element = document.querySelector('#df-0ac54d1f-48bb-43ca-b522-b2b2479bb788');\n",
              "        const dataTable =\n",
              "          await google.colab.kernel.invokeFunction('convertToInteractive',\n",
              "                                                    [key], {});\n",
              "        if (!dataTable) return;\n",
              "\n",
              "        const docLinkHtml = 'Like what you see? Visit the ' +\n",
              "          '<a target=\"_blank\" href=https://colab.research.google.com/notebooks/data_table.ipynb>data table notebook</a>'\n",
              "          + ' to learn more about interactive tables.';\n",
              "        element.innerHTML = '';\n",
              "        dataTable['output_type'] = 'display_data';\n",
              "        await google.colab.output.renderOutput(dataTable, element);\n",
              "        const docLink = document.createElement('div');\n",
              "        docLink.innerHTML = docLinkHtml;\n",
              "        element.appendChild(docLink);\n",
              "      }\n",
              "    </script>\n",
              "  </div>\n",
              "\n",
              "\n",
              "<div id=\"df-2cbb326f-c437-4488-9fd0-fffe413d9c37\">\n",
              "  <button class=\"colab-df-quickchart\" onclick=\"quickchart('df-2cbb326f-c437-4488-9fd0-fffe413d9c37')\"\n",
              "            title=\"Suggest charts\"\n",
              "            style=\"display:none;\">\n",
              "\n",
              "<svg xmlns=\"http://www.w3.org/2000/svg\" height=\"24px\"viewBox=\"0 0 24 24\"\n",
              "     width=\"24px\">\n",
              "    <g>\n",
              "        <path d=\"M19 3H5c-1.1 0-2 .9-2 2v14c0 1.1.9 2 2 2h14c1.1 0 2-.9 2-2V5c0-1.1-.9-2-2-2zM9 17H7v-7h2v7zm4 0h-2V7h2v10zm4 0h-2v-4h2v4z\"/>\n",
              "    </g>\n",
              "</svg>\n",
              "  </button>\n",
              "\n",
              "<style>\n",
              "  .colab-df-quickchart {\n",
              "      --bg-color: #E8F0FE;\n",
              "      --fill-color: #1967D2;\n",
              "      --hover-bg-color: #E2EBFA;\n",
              "      --hover-fill-color: #174EA6;\n",
              "      --disabled-fill-color: #AAA;\n",
              "      --disabled-bg-color: #DDD;\n",
              "  }\n",
              "\n",
              "  [theme=dark] .colab-df-quickchart {\n",
              "      --bg-color: #3B4455;\n",
              "      --fill-color: #D2E3FC;\n",
              "      --hover-bg-color: #434B5C;\n",
              "      --hover-fill-color: #FFFFFF;\n",
              "      --disabled-bg-color: #3B4455;\n",
              "      --disabled-fill-color: #666;\n",
              "  }\n",
              "\n",
              "  .colab-df-quickchart {\n",
              "    background-color: var(--bg-color);\n",
              "    border: none;\n",
              "    border-radius: 50%;\n",
              "    cursor: pointer;\n",
              "    display: none;\n",
              "    fill: var(--fill-color);\n",
              "    height: 32px;\n",
              "    padding: 0;\n",
              "    width: 32px;\n",
              "  }\n",
              "\n",
              "  .colab-df-quickchart:hover {\n",
              "    background-color: var(--hover-bg-color);\n",
              "    box-shadow: 0 1px 2px rgba(60, 64, 67, 0.3), 0 1px 3px 1px rgba(60, 64, 67, 0.15);\n",
              "    fill: var(--button-hover-fill-color);\n",
              "  }\n",
              "\n",
              "  .colab-df-quickchart-complete:disabled,\n",
              "  .colab-df-quickchart-complete:disabled:hover {\n",
              "    background-color: var(--disabled-bg-color);\n",
              "    fill: var(--disabled-fill-color);\n",
              "    box-shadow: none;\n",
              "  }\n",
              "\n",
              "  .colab-df-spinner {\n",
              "    border: 2px solid var(--fill-color);\n",
              "    border-color: transparent;\n",
              "    border-bottom-color: var(--fill-color);\n",
              "    animation:\n",
              "      spin 1s steps(1) infinite;\n",
              "  }\n",
              "\n",
              "  @keyframes spin {\n",
              "    0% {\n",
              "      border-color: transparent;\n",
              "      border-bottom-color: var(--fill-color);\n",
              "      border-left-color: var(--fill-color);\n",
              "    }\n",
              "    20% {\n",
              "      border-color: transparent;\n",
              "      border-left-color: var(--fill-color);\n",
              "      border-top-color: var(--fill-color);\n",
              "    }\n",
              "    30% {\n",
              "      border-color: transparent;\n",
              "      border-left-color: var(--fill-color);\n",
              "      border-top-color: var(--fill-color);\n",
              "      border-right-color: var(--fill-color);\n",
              "    }\n",
              "    40% {\n",
              "      border-color: transparent;\n",
              "      border-right-color: var(--fill-color);\n",
              "      border-top-color: var(--fill-color);\n",
              "    }\n",
              "    60% {\n",
              "      border-color: transparent;\n",
              "      border-right-color: var(--fill-color);\n",
              "    }\n",
              "    80% {\n",
              "      border-color: transparent;\n",
              "      border-right-color: var(--fill-color);\n",
              "      border-bottom-color: var(--fill-color);\n",
              "    }\n",
              "    90% {\n",
              "      border-color: transparent;\n",
              "      border-bottom-color: var(--fill-color);\n",
              "    }\n",
              "  }\n",
              "</style>\n",
              "\n",
              "  <script>\n",
              "    async function quickchart(key) {\n",
              "      const quickchartButtonEl =\n",
              "        document.querySelector('#' + key + ' button');\n",
              "      quickchartButtonEl.disabled = true;  // To prevent multiple clicks.\n",
              "      quickchartButtonEl.classList.add('colab-df-spinner');\n",
              "      try {\n",
              "        const charts = await google.colab.kernel.invokeFunction(\n",
              "            'suggestCharts', [key], {});\n",
              "      } catch (error) {\n",
              "        console.error('Error during call to suggestCharts:', error);\n",
              "      }\n",
              "      quickchartButtonEl.classList.remove('colab-df-spinner');\n",
              "      quickchartButtonEl.classList.add('colab-df-quickchart-complete');\n",
              "    }\n",
              "    (() => {\n",
              "      let quickchartButtonEl =\n",
              "        document.querySelector('#df-2cbb326f-c437-4488-9fd0-fffe413d9c37 button');\n",
              "      quickchartButtonEl.style.display =\n",
              "        google.colab.kernel.accessAllowed ? 'block' : 'none';\n",
              "    })();\n",
              "  </script>\n",
              "</div>\n",
              "\n",
              "    </div>\n",
              "  </div>\n"
            ],
            "application/vnd.google.colaboratory.intrinsic+json": {
              "type": "dataframe",
              "variable_name": "df",
              "summary": "{\n  \"name\": \"df\",\n  \"rows\": 100,\n  \"fields\": [\n    {\n      \"column\": \"x\",\n      \"properties\": {\n        \"dtype\": \"number\",\n        \"std\": 2.051317614456304,\n        \"min\": -2.0,\n        \"max\": 5.0,\n        \"num_unique_values\": 100,\n        \"samples\": [\n          3.868686868686869,\n          1.7474747474747474,\n          2.949494949494949\n        ],\n        \"semantic_type\": \"\",\n        \"description\": \"\"\n      }\n    },\n    {\n      \"column\": \"y1\",\n      \"properties\": {\n        \"dtype\": \"number\",\n        \"std\": 14.248652512375784,\n        \"min\": -13.898868753408886,\n        \"max\": 42.99875498244483,\n        \"num_unique_values\": 100,\n        \"samples\": [\n          26.419004817027663,\n          2.7797093911100648,\n          11.8917314093978\n        ],\n        \"semantic_type\": \"\",\n        \"description\": \"\"\n      }\n    },\n    {\n      \"column\": \"y2\",\n      \"properties\": {\n        \"dtype\": \"number\",\n        \"std\": 65.66801351423055,\n        \"min\": -199.28143820847728,\n        \"max\": 39.02856876812389,\n        \"num_unique_values\": 100,\n        \"samples\": [\n          -177.40640742065352,\n          5.225661488425455,\n          -76.03907581980185\n        ],\n        \"semantic_type\": \"\",\n        \"description\": \"\"\n      }\n    },\n    {\n      \"column\": \"y3\",\n      \"properties\": {\n        \"dtype\": \"number\",\n        \"std\": 9.541973945246228,\n        \"min\": -34.92895375746235,\n        \"max\": 18.193712615708264,\n        \"num_unique_values\": 100,\n        \"samples\": [\n          7.9556076710083214,\n          6.9512555974912456,\n          17.97240575956159\n        ],\n        \"semantic_type\": \"\",\n        \"description\": \"\"\n      }\n    }\n  ]\n}"
            }
          },
          "metadata": {},
          "execution_count": 5
        }
      ],
      "source": [
        "df.head()"
      ]
    },
    {
      "cell_type": "markdown",
      "metadata": {
        "id": "iZMNruER6QV3"
      },
      "source": [
        "**Plots of the Synthetic Datasets**\n",
        "\n",
        "<img src = 'images/quad.png'/><img src = 'images/quintic.png'/><img src = 'images/cubic.png'/>"
      ]
    },
    {
      "cell_type": "markdown",
      "metadata": {
        "nbgrader": {
          "grade": false,
          "grade_id": "cell-51eae9cb036d0cf0",
          "locked": true,
          "schema_version": 3,
          "solution": false
        },
        "id": "E-teKj4p6QV4"
      },
      "source": [
        "[Back to top](#Index:)\n",
        "\n",
        "### Problem 1\n",
        "\n",
        "#### Creating the Train and Test sets\n",
        "\n",
        "\n",
        "The scikit-learn library has a built-in function called `train_test_split` that accepts one or many arrays and returns a randomized split of the data.  Use the `train_test_split` function to split `x` and `y1` into train and test sets.  Set `random_state = 32` and create a test set using 30% of the data.  Assign your results as arrays to `X_train, X_test, y1_train, y1_test` below.  \n",
        "\n",
        "- In anticipation of using `LinearRegression` estimator, make sure your `X_train` and `X_test` are of shapes (70, 1) and (30, 1) respectively."
      ]
    },
    {
      "cell_type": "code",
      "source": [],
      "metadata": {
        "id": "GqEw61fYRJGt"
      },
      "execution_count": null,
      "outputs": []
    },
    {
      "cell_type": "code",
      "execution_count": null,
      "metadata": {
        "nbgrader": {
          "grade": false,
          "grade_id": "cell-9434424b94dba3c0",
          "locked": false,
          "schema_version": 3,
          "solution": true
        },
        "colab": {
          "base_uri": "https://localhost:8080/"
        },
        "id": "V0fdixx46QV4",
        "outputId": "169caa85-b0a5-4279-bade-8dc59da6d717"
      },
      "outputs": [
        {
          "output_type": "stream",
          "name": "stdout",
          "text": [
            "(100,) (70,) (30,)\n",
            "(100,) (70,) (30,)\n",
            "91    4.434343\n",
            "21   -0.515152\n",
            "61    2.313131\n",
            "0    -2.000000\n",
            "31    0.191919\n",
            "Name: x, dtype: float64\n",
            "<class 'pandas.core.series.Series'>\n",
            "<class 'pandas.core.frame.DataFrame'>\n",
            "<class 'pandas.core.series.Series'>\n"
          ]
        }
      ],
      "source": [
        "X_train, X_test, y1_train, y1_test = train_test_split(df['x'], df['y1'], test_size=0.3, random_state=32)\n",
        "\n",
        "# Answer check\n",
        "print(df['x'].shape, X_train.shape, X_test.shape)\n",
        "print(df['y1'].shape, y1_train.shape, y1_test.shape)\n",
        "print(X_train.head())\n",
        "y1_train\n",
        "\n",
        "print(type(X_train))\n",
        "X_train = X_train.to_frame()\n",
        "print(type(X_train))\n",
        "print(type(X_test))"
      ]
    },
    {
      "cell_type": "markdown",
      "metadata": {
        "nbgrader": {
          "grade": false,
          "grade_id": "cell-de81ef2bbaab88ac",
          "locked": true,
          "schema_version": 3,
          "solution": false
        },
        "id": "KgpCAZf_6QV5"
      },
      "source": [
        "[Back to top](#Index:)\n",
        "\n",
        "### Problem 2\n",
        "\n",
        "\n",
        "Use the `train_test_split` function to create similar splits of `y2` and `y3`.  Use the `random_state = 32` and create a test set using 30% of the data.   Assign your results to `y2_train`, `y2_test`, `y3_train`, and `y3_test` below.  "
      ]
    },
    {
      "cell_type": "code",
      "execution_count": null,
      "metadata": {
        "nbgrader": {
          "grade": false,
          "grade_id": "cell-14a80d1dd8e68ebc",
          "locked": false,
          "schema_version": 3,
          "solution": true
        },
        "colab": {
          "base_uri": "https://localhost:8080/"
        },
        "id": "C2PlvIPv6QV5",
        "outputId": "a3bb3d7d-95db-4bd3-89bd-199c25ad78d8"
      },
      "outputs": [
        {
          "output_type": "stream",
          "name": "stdout",
          "text": [
            "(100,) (70,) (30,)\n",
            "(100,) (70,) (30,)\n",
            "91   -12.007850\n",
            "21    -8.383127\n",
            "61    13.738057\n",
            "0      3.880352\n",
            "31    -9.543759\n",
            "Name: y3, dtype: float64\n"
          ]
        }
      ],
      "source": [
        "train_test_split(df['x'], df['y1'], test_size=0.3, random_state=32)\n",
        "y2_train, y2_test, y3_train, y3_test  = train_test_split(df['y2'], df['y3'], test_size=0.3, random_state=32)\n",
        "\n",
        "# Answer check\n",
        "print(df['y2'].shape, y2_train.shape, y2_test.shape)\n",
        "print(df['y3'].shape, y3_train.shape, y3_test.shape)\n",
        "print(y3_train.head())"
      ]
    },
    {
      "cell_type": "markdown",
      "metadata": {
        "nbgrader": {
          "grade": false,
          "grade_id": "cell-d22e18e493c7a842",
          "locked": true,
          "schema_version": 3,
          "solution": false
        },
        "id": "W3oOP8OW6QV5"
      },
      "source": [
        "[Back to top](#Index:)\n",
        "\n",
        "### Problem 3\n",
        "\n",
        "\n",
        "Use a `for` loop to loop over the values from one to 20. For each iteration `i`:\n",
        "\n",
        "- Use `Pipeline` to create a pipeline object. Inside the pipeline object define a a tuple where the first element is a string identifier `pfeat` and the second element is an instance of `PolynomialFeatures` of degree `i` with `include_bias = False`. Inside the pipeline define another tuple where the first element is a string identifier `linreg`, and the second element is an instance of `LinearRegression`. Assign the pipeline object to the variable `pipe`.\n",
        "- Use the `fit` function on `pipe` to train your model on `X_train` and `y1_train`. Assign the result to `train_preds`.\n",
        "- Use the `predict` function on `pipe` to compute your prediction on `X_test`. Assign the result to `test_preds`.\n",
        "- Use the `mean_squared_error` function to calculate the MSE between `y1_train` and `train_preds`. Append your result to the `train_mses` list.\n",
        "- Use the `mean_squared_error` function to calculate the MSE between `y1_test` and `test_preds`. Append your result to the `test_mses` list."
      ]
    },
    {
      "cell_type": "markdown",
      "source": [],
      "metadata": {
        "id": "0gX-xT9yn8l2"
      }
    },
    {
      "cell_type": "code",
      "execution_count": null,
      "metadata": {
        "nbgrader": {
          "grade": false,
          "grade_id": "cell-22388d4a41b01c98",
          "locked": false,
          "schema_version": 3,
          "solution": true
        },
        "colab": {
          "base_uri": "https://localhost:8080/"
        },
        "id": "iRzmCtNF6QV6",
        "outputId": "c6f8a909-9ea3-4589-b354-fbe091fd1a07"
      },
      "outputs": [
        {
          "output_type": "stream",
          "name": "stdout",
          "text": [
            "<class 'pandas.core.series.Series'>\n",
            "<class 'pandas.core.series.Series'>\n",
            "<class 'numpy.ndarray'>\n"
          ]
        },
        {
          "output_type": "execute_result",
          "data": {
            "text/plain": [
              "[32.81717221836019,\n",
              " 6.429420760051613,\n",
              " 6.778496813459416,\n",
              " 6.78884511500288,\n",
              " 6.97169580170748,\n",
              " 6.760354460952511,\n",
              " 6.727808544973999,\n",
              " 6.670479979834933,\n",
              " 7.02085957008939,\n",
              " 7.2910594753537215,\n",
              " 7.799829070063486,\n",
              " 8.100948600591641,\n",
              " 7.897998412659439,\n",
              " 8.045232052638712,\n",
              " 10.701502668926057,\n",
              " 17.126351662207295,\n",
              " 31.61752875272011,\n",
              " 34.52122296283651,\n",
              " 30.303038015341613]"
            ]
          },
          "metadata": {},
          "execution_count": 10
        }
      ],
      "source": [
        "train_mses = []\n",
        "test_mses = []\n",
        "\n",
        "X_train, X_test, y1_train, y1_test\n",
        "\n",
        "for i in range(1,20):\n",
        "    #create pipeline with PolynomialFeatures and LinearRegression\n",
        "    #create pipeline\n",
        "  pipe = Pipeline([\n",
        "      ('pfeat',PolynomialFeatures(degree=i, include_bias = False)),\n",
        "      ('linreg',LinearRegression())\n",
        "      ])\n",
        "\n",
        "  train_preds = pipe.fit(X_train, y1_train)\n",
        "  test_preds = pipe.predict(X_test.to_frame())     # convert to data frame from Series\n",
        "\n",
        "  train_mses.append(mean_squared_error(y1_train, pipe.predict(X_train)))\n",
        "  test_mses.append(mean_squared_error(y1_test, test_preds))\n",
        "\n",
        "print(type(X_test))\n",
        "print(type(y1_train))\n",
        "print(type(test_preds))\n",
        "#test_mses\n",
        "train_mses\n",
        "test_mses\n",
        "\n",
        "#X = auto[[\"horsepower\"]]\n",
        "#y = auto[\"mpg\"]\n",
        "\n",
        "#pipe.fit(X, y)\n",
        "#quad_pipe_mse = float(mean_squared_error(pipe.predict(X),y))"
      ]
    },
    {
      "cell_type": "markdown",
      "metadata": {
        "id": "lx9L0Bhk6QV6"
      },
      "source": [
        "Uncomment the code below to visualize the results of your model fitting.  Note that the data in `y1` were created from a quadratic model originally."
      ]
    },
    {
      "cell_type": "code",
      "execution_count": null,
      "metadata": {
        "colab": {
          "base_uri": "https://localhost:8080/",
          "height": 466
        },
        "id": "GdM9oWzE6QV6",
        "outputId": "16cae05f-4917-41b0-963b-bd7028d6f492"
      },
      "outputs": [
        {
          "output_type": "stream",
          "name": "stdout",
          "text": [
            "The Complexity that minimized Test Error was: 2\n"
          ]
        },
        {
          "output_type": "display_data",
          "data": {
            "text/plain": [
              "<Figure size 640x480 with 1 Axes>"
            ],
            "image/png": "[encoded data removed]"
          },
          "metadata": {}
        }
      ],
      "source": [
        "print(f'The Complexity that minimized Test Error was: {test_mses.index(min(test_mses)) + 1}')\n",
        "plt.plot(range(1, 20), train_mses, '--o', label = 'training error')\n",
        "plt.plot(range(1, 20), test_mses, '--o', label = 'testing error')\n",
        "plt.xticks(range(1, 21), range(1, 21))\n",
        "plt.xlabel('Degree Complexity')\n",
        "plt.ylabel('Mean Squared Error')\n",
        "plt.legend();"
      ]
    },
    {
      "cell_type": "markdown",
      "metadata": {
        "nbgrader": {
          "grade": false,
          "grade_id": "cell-fbff2877fa3e10c1",
          "locked": true,
          "schema_version": 3,
          "solution": false
        },
        "id": "dwDTxYRm6QV6"
      },
      "source": [
        "[Back to top](#Index:)\n",
        "\n",
        "### Problem 4\n",
        "\n",
        "#### Write a function to determine best model complexity\n",
        "\n",
        "\n",
        "\n",
        "Complete the definition of the `simple_cross_validation` function according to the following instructions:\n",
        "\n",
        "\n",
        "Use a `for` loop to loop over the values from one to 20. For each iteration `i`:\n",
        "\n",
        "- Use `Pipeline` to create a pipeline object. Inside the pipeline object define a a tuple where the first element is a string identifier `pfeat` and the second element is an instance of `PolynomialFeatures` of degree `i` with `include_bias = False`. Inside the pipeline define another tuple where the first element is a string identifier `linreg`, and the second element is an instance of `LinearRegression`. Assign the pipeline object to the variable `pipe`.\n",
        "- Use the `fit` function on `pipe` to train your model on `X_train` and `y_train`.\n",
        "- Use the `predict` function on `pipe` to compute your prediction on `X_test`. Assign the result to `test_preds`.\n",
        "- Use the `mean_squared_error` function to calculate the MSE between `y_test` and `test_preds`. Assign your result to `test_mse`.\n",
        "- Use an `if` statement to check that `test_mse` is less than `best_mse`:\n",
        "    - If the condition is satisifed assign `test_mse` to `best_mse` and `pipe` to `best_pipe`.\n",
        "- Your function should return `best_pipe`."
      ]
    },
    {
      "cell_type": "code",
      "execution_count": null,
      "metadata": {
        "nbgrader": {
          "grade": false,
          "grade_id": "cell-68f0fca2c0aa71b4",
          "locked": false,
          "schema_version": 3,
          "solution": true
        },
        "id": "IpR4_jyd6QV7"
      },
      "outputs": [],
      "source": [
        "def simple_cross_validation(X_train, y_train, X_test, y_test):\n",
        " best_pipe = None #placeholder for best model\n",
        " best_mse = np.inf #set best mse to infinity to begin\n",
        " for i in range(1,20):\n",
        "\n",
        "        #create pipeline with PolynomialFeatures and LinearRegression\n",
        "        #remember to set include_bias = False\n",
        "\n",
        "    pipe = Pipeline([\n",
        "            ('pfeat',PolynomialFeatures(degree=i, include_bias = False)),\n",
        "            ('linreg',LinearRegression())\n",
        "            ])\n",
        "    #fit pipeline on training data\n",
        "    pipe.fit(X_train, y1_train)\n",
        "    #predict on testing data\n",
        "    test_preds = pipe.predict(X_test.to_frame())\n",
        "    #calculate mse of testing data\n",
        "    test_mse = mean_squared_error(y1_test, test_preds)\n",
        "\n",
        "    #if mse is best -- set best_pipe = pipe\n",
        "    if test_mse < best_mse:\n",
        "          best_mse = test_mse\n",
        "          best_pipe = pipe\n",
        "          print(f\" I am {i}. {best_mse}\")\n",
        "       #   print(best_pipe)\n",
        " return best_pipe\n",
        "\n",
        "\n"
      ]
    },
    {
      "cell_type": "code",
      "execution_count": null,
      "metadata": {
        "colab": {
          "base_uri": "https://localhost:8080/"
        },
        "id": "wEuco-sK6QV8",
        "outputId": "85bcfa65-1940-4944-8ec6-59e7ff910368"
      },
      "outputs": [
        {
          "output_type": "stream",
          "name": "stdout",
          "text": [
            " I am 1. 32.81717221836019\n",
            " I am 2. 6.429420760051613\n"
          ]
        },
        {
          "output_type": "execute_result",
          "data": {
            "text/plain": [
              "{'memory': None,\n",
              " 'steps': [('pfeat', PolynomialFeatures(include_bias=False)),\n",
              "  ('linreg', LinearRegression())],\n",
              " 'transform_input': None,\n",
              " 'verbose': False,\n",
              " 'pfeat': PolynomialFeatures(include_bias=False),\n",
              " 'linreg': LinearRegression(),\n",
              " 'pfeat__degree': 2,\n",
              " 'pfeat__include_bias': False,\n",
              " 'pfeat__interaction_only': False,\n",
              " 'pfeat__order': 'C',\n",
              " 'linreg__copy_X': True,\n",
              " 'linreg__fit_intercept': True,\n",
              " 'linreg__n_jobs': None,\n",
              " 'linreg__positive': False}"
            ]
          },
          "metadata": {},
          "execution_count": 33
        }
      ],
      "source": [
        "best_model = simple_cross_validation(X_train, y2_train, X_test, y2_test)\n",
        "best_model.get_params() #should be degree = 10"
      ]
    },
    {
      "cell_type": "code",
      "execution_count": null,
      "metadata": {
        "id": "vxTYtl5t6QV8"
      },
      "outputs": [],
      "source": []
    },
    {
      "cell_type": "code",
      "execution_count": null,
      "metadata": {
        "id": "Zp9jOWH16QV8"
      },
      "outputs": [],
      "source": []
    }
  ],
  "metadata": {
    "celltoolbar": "Create Assignment",
    "kernelspec": {
      "display_name": "Python 3 (ipykernel)",
      "language": "python",
      "name": "python3"
    },
    "language_info": {
      "codemirror_mode": {
        "name": "ipython",
        "version": 3
      },
      "file_extension": ".py",
      "mimetype": "text/x-python",
      "name": "python",
      "nbconvert_exporter": "python",
      "pygments_lexer": "ipython3",
      "version": "3.12.4"
    },
    "colab": {
      "provenance": [],
      "include_colab_link": true
    }
  },
  "nbformat": 4,
  "nbformat_minor": 0
}